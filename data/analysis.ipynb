{
 "cells": [
  {
   "cell_type": "markdown",
   "metadata": {},
   "source": [
    "# Data Analysis\n",
    "Just to take a quick look at the distribution around the actual distance."
   ]
  },
  {
   "cell_type": "code",
   "execution_count": 78,
   "metadata": {},
   "outputs": [],
   "source": [
    "\n",
    "import pandas as pd\n",
    "import numpy as np\n",
    "import matplotlib.pyplot as plt\n",
    "import seaborn as sns\n",
    "import plotly.express as px\n",
    "from sklearn.model_selection import train_test_split\n",
    "from sklearn.tree import DecisionTreeClassifier, plot_tree\n",
    "from sklearn.metrics import accuracy_score, classification_report, confusion_matrix\n"
   ]
  },
  {
   "cell_type": "markdown",
   "metadata": {},
   "source": [
    "# Visualizing 3D and signal strength along 3 axes.\n",
    "## Import data"
   ]
  },
  {
   "cell_type": "code",
   "execution_count": 118,
   "metadata": {},
   "outputs": [],
   "source": [
    "# Locations\n",
    "# 0 - Laser Cutter\n",
    "# 1 - 3D Printers\n",
    "# 2 - Back Left Table\n",
    "# 3 - Back Right Table\n",
    "# 4 - Front Table\n",
    "# 5 - Tool Boxes\n",
    "# 6 - Front Desk\n",
    "\n",
    "col_names=[\"r_dist\", \"r_rssi\", \"g_dist\", \"g_rssi\", \"b_dist\", \"b_rssi\"]\n",
    "laser_cutter_df = pd.read_csv(\"laser_cutter.csv\", names=col_names)\n",
    "laser_cutter_df[\"location\"] = \"0\"\n",
    "\n",
    "printers_df = pd.read_csv(\"printers.csv\", names=col_names)\n",
    "printers_df[\"location\"] = \"1\"\n",
    "\n",
    "bl_table_df = pd.read_csv(\"bl_table.csv\", names=col_names)\n",
    "bl_table_df[\"location\"] = \"2\"\n",
    "\n",
    "br_table_df = pd.read_csv(\"br_table.csv\", names=col_names)\n",
    "br_table_df[\"location\"] = \"3\"\n",
    "\n",
    "toolboxes_df = pd.read_csv(\"toolboxes.csv\", names=col_names)\n",
    "toolboxes_df[\"location\"] = \"4\"\n",
    "\n",
    "front_table_df = pd.read_csv(\"front_table.csv\", names=col_names)\n",
    "front_table_df[\"location\"] = \"5\"\n",
    "\n",
    "front_desk_df = pd.read_csv(\"front_desk.csv\", names=col_names)\n",
    "front_desk_df[\"location\"] = \"6\"\n",
    "\n",
    "df = pd.concat([laser_cutter_df, printers_df, bl_table_df, br_table_df, toolboxes_df, front_table_df, front_desk_df])"
   ]
  },
  {
   "cell_type": "code",
   "execution_count": 119,
   "metadata": {},
   "outputs": [],
   "source": [
    "# 0\n",
    "color_discrete_map = {\"0\": 'rgb(128, 0, 128)', \"1\": 'rgb(0, 0, 255)', \"2\": 'rgb(255, 0, 0)',\n",
    "                       \"3\": 'rgb(0, 128, 128)', \"4\": 'rgb(200, 128, 0)', \"5\": 'rgb(200, 200, 200)', \"6\":'rgb(0, 255, 0)'}"
   ]
  },
  {
   "cell_type": "code",
   "execution_count": 120,
   "metadata": {},
   "outputs": [
    {
     "data": {
      "application/vnd.plotly.v1+json": {
       "config": {
        "plotlyServerURL": "https://plot.ly"
       },
       "data": [
        {
         "hovertemplate": "location=0<br>r_dist=%{x}<br>g_dist=%{y}<br>b_dist=%{z}<extra></extra>",
         "legendgroup": "0",
         "marker": {
          "color": "rgb(128, 0, 128)",
          "symbol": "circle"
         },
         "mode": "markers",
         "name": "0",
         "scene": "scene",
         "showlegend": true,
         "type": "scatter3d",
         "x": [
          1632.7634,
          2072.5494,
          2209.2553,
          2140.8506,
          2911.9623,
          2907.2775,
          2141.2794,
          3136.7367,
          1980.0742,
          2529.503,
          2364.8479,
          2026.9022,
          2348.4581,
          2805.0355,
          2089.165,
          2666.0055,
          2476.6325,
          3618.7232,
          2559.7144,
          2289.5861,
          2299.2889,
          2672.7006,
          2742.4977,
          3622.4219,
          2455.4842,
          2644.3088,
          1891.098,
          2431.189
         ],
         "y": [
          1678.2805,
          2111.1941,
          1153.3491,
          1496.9577,
          1345.9496,
          1663.1992,
          1895.0012,
          1900.5998,
          1961.3413,
          1435.0748,
          2826.8893,
          2345.9671,
          1882.9682,
          1989.4641,
          2308.9543,
          1687.3441,
          1830.0958,
          1408.6391,
          2602.2211,
          2196.7666,
          2295.3594,
          1905.6252,
          1841.9298,
          1497.7644,
          2331.2876,
          1422.0321,
          1353.5026,
          1808.9489
         ],
         "z": [
          167.1373,
          858.0271,
          1010.5959,
          312.1981,
          1335.3759,
          605.7568,
          196.3844,
          563.5112,
          554.1444,
          1508.6666,
          546.8435,
          408.1958,
          1936.3681,
          694.127,
          648.8095,
          192.6077,
          295.8068,
          617.1415,
          697.7534,
          532.2921,
          1322.5087,
          418.4427,
          421.4631,
          1640.5652,
          915.586,
          448.6556,
          142.0545,
          57.4118
         ]
        },
        {
         "hovertemplate": "location=1<br>r_dist=%{x}<br>g_dist=%{y}<br>b_dist=%{z}<extra></extra>",
         "legendgroup": "1",
         "marker": {
          "color": "rgb(0, 0, 255)",
          "symbol": "circle"
         },
         "mode": "markers",
         "name": "1",
         "scene": "scene",
         "showlegend": true,
         "type": "scatter3d",
         "x": [
          3324.0508,
          2239.7039,
          2216.8088,
          1864.085,
          2632.5501,
          2502.9099,
          2726.2102,
          2195.6619,
          2063.4848,
          1784.0238,
          3129.9917,
          2352.764,
          2558.2048,
          2194.9049,
          2636.4538,
          2657.5264,
          2090.6751,
          2543.0983,
          2971.278,
          2738.6684,
          2053.4379,
          2439.774,
          2284.5714,
          3361.8422,
          3025.7355,
          2534.9925,
          2289.142,
          2707.753,
          3138.2982,
          2419.2294,
          2184.5573,
          2499.6799
         ],
         "y": [
          2129.8976,
          1305.9195,
          2455.4837,
          1429.0344,
          1901.0959,
          1278.9097,
          1752.1749,
          1081.594,
          1788.856,
          1247.9878,
          1042.3195,
          2619.2848,
          1136.0033,
          1571.9935,
          1952.4562,
          1379.1832,
          2073.302,
          1515.6896,
          1237.1861,
          853.4962,
          2520.4399,
          1207.4021,
          1227.6955,
          1327.0683,
          1225.8583,
          2026.472,
          975.0977,
          1163.1673,
          1099.7222,
          2317.2643,
          1364.0777,
          2458.5049
         ],
         "z": [
          1418.7385,
          2520.4394,
          1677.5265,
          1226.6124,
          1419.9689,
          1549.2513,
          1448.6707,
          940.3544,
          1389.7579,
          1130.1358,
          910.1415,
          839.7995,
          872.5809,
          1134.4664,
          1465.2878,
          975.6017,
          658.0289,
          808.9319,
          2350.0196,
          1303.6533,
          1392.7513,
          1268.155,
          1761.3653,
          818.7515,
          750.02,
          1032.5013,
          1522.69,
          1247.2071,
          859.8765,
          1304.4079,
          1273.4414,
          1018.9054
         ]
        },
        {
         "hovertemplate": "location=2<br>r_dist=%{x}<br>g_dist=%{y}<br>b_dist=%{z}<extra></extra>",
         "legendgroup": "2",
         "marker": {
          "color": "rgb(255, 0, 0)",
          "symbol": "circle"
         },
         "mode": "markers",
         "name": "2",
         "scene": "scene",
         "showlegend": true,
         "type": "scatter3d",
         "x": [
          2582.3753,
          3388.832,
          1777.8757,
          2423.0066,
          1803.6626,
          1877.6804,
          2149.4356,
          1601.242,
          1835.6865,
          2865.6112,
          1804.5219,
          1412.9362,
          1306.674,
          1841.9283,
          1956.659,
          1831.3382,
          1348.6674,
          1677.5245,
          2394.3042,
          2340.6251,
          1495.4982,
          1468.2758,
          2717.5711,
          2116.3553,
          2037.8548,
          1892.6585,
          1963.4616,
          2208.1518,
          2305.1795,
          1607.7882,
          2201.7287,
          2119.7801
         ],
         "y": [
          2002.7078,
          1933.5725,
          1048.3619,
          1529.7387,
          1671.485,
          1464.1798,
          983.4052,
          1046.8537,
          1290.0579,
          1225.3543,
          921.4717,
          850.4736,
          1357.2803,
          1357.2812,
          1269.0609,
          1740.9715,
          1598.9749,
          2043.0915,
          1063.4664,
          1000.0232,
          1592.9846,
          1496.18,
          1812.7237,
          1500.7865,
          1972.27,
          1755.2704,
          2817.2735,
          1019.3098,
          1781.8325,
          2078.2258,
          869.3558,
          1174.6216
         ],
         "z": [
          1226.6129,
          767.3898,
          1344.4385,
          1078.5738,
          855.0068,
          711.802,
          1316.4922,
          1089.9814,
          1398.6198,
          1374.4228,
          1379.832,
          1314.9835,
          1233.4103,
          1079.4051,
          1156.6715,
          1705.3474,
          1411.1064,
          821.7717,
          946.7243,
          1315.1082,
          1873.1481,
          1111.4064,
          1157.4532,
          625.1685,
          1148.086,
          1358.8705,
          476.6014,
          1239.4527,
          888.995,
          927.2122,
          1590.6673,
          1148.8173
         ]
        },
        {
         "hovertemplate": "location=3<br>r_dist=%{x}<br>g_dist=%{y}<br>b_dist=%{z}<extra></extra>",
         "legendgroup": "3",
         "marker": {
          "color": "rgb(0, 128, 128)",
          "symbol": "circle"
         },
         "mode": "markers",
         "name": "3",
         "scene": "scene",
         "showlegend": true,
         "type": "scatter3d",
         "x": [
          1980.4025,
          1700.184,
          2218.3204,
          1910.288,
          1771.9371,
          2359.5624,
          2019.6751,
          2163.1824,
          2548.2613,
          1784.7784,
          1485.6806,
          2723.6145,
          1592.9569,
          1715.2914,
          1702.4496,
          2271.9463,
          1966.8066,
          1714.5354,
          1496.2548,
          1896.5611,
          2002.303,
          2259.1075,
          2139.0147,
          2027.2295,
          1881.4561,
          1835.685,
          2463.0381,
          1931.6843,
          2334.4081,
          2817.2716,
          2104.1686,
          1931.3064
         ],
         "y": [
          1314.9835,
          1610.3061,
          1162.1345,
          935.068,
          1187.3368,
          2137.7303,
          766.4327,
          1517.4041,
          729.0791,
          903.7974,
          1603.1029,
          1781.0007,
          612.8172,
          1154.1042,
          1483.4139,
          808.5789,
          368.1773,
          444.8794,
          530.2288,
          665.4247,
          666.1802,
          768.7759,
          1219.8135,
          578.0982,
          1719.0657,
          1948.678,
          640.778,
          787.7836,
          1479.4416,
          1763.1016,
          1122.3315,
          1534.4775
         ],
         "z": [
          1882.2127,
          632.9732,
          910.1424,
          1243.9845,
          1137.9406,
          1245.4951,
          1165.4339,
          1060.1104,
          1536.2844,
          1165.4344,
          920.9664,
          1110.2988,
          1583.1143,
          2044.252,
          1433.5628,
          1282.5035,
          1752.9557,
          1517.8988,
          1274.524,
          2070.2818,
          1389.7555,
          1213.772,
          1100.4777,
          1531.2991,
          1523.5502,
          1218.3034,
          1529.7407,
          1048.1861,
          1141.0605,
          1225.1018,
          1356.5237,
          2495.1895
         ]
        },
        {
         "hovertemplate": "location=4<br>r_dist=%{x}<br>g_dist=%{y}<br>b_dist=%{z}<extra></extra>",
         "legendgroup": "4",
         "marker": {
          "color": "rgb(200, 128, 0)",
          "symbol": "circle"
         },
         "mode": "markers",
         "name": "4",
         "scene": "scene",
         "showlegend": true,
         "type": "scatter3d",
         "x": [
          2149.5875,
          2162.4273,
          2148.8309,
          3129.2126,
          2344.5555,
          2239.9723,
          1864.8401,
          2949.4241,
          1636.7398,
          2018.1664,
          2902.4381,
          1991.0263,
          1835.3832,
          2191.5828,
          1968.4784,
          1922.2418
         ],
         "y": [
          915.4303,
          1313.472,
          2537.055,
          2725.8811,
          1617.8571,
          752.2867,
          1058.18,
          1082.7142,
          988.8715,
          2089.1645,
          1601.9966,
          1125.4038,
          660.2891,
          755.5056,
          1518.1577,
          1247.7627
         ],
         "z": [
          1750.7897,
          1915.4453,
          1185.0712,
          1448.5692,
          1032.5756,
          1047.6087,
          1194.8903,
          1305.919,
          1501.5416,
          1808.1929,
          1454.714,
          1738.9076,
          1672.2386,
          2231.9157,
          1282.505,
          1432.9607
         ]
        },
        {
         "hovertemplate": "location=5<br>r_dist=%{x}<br>g_dist=%{y}<br>b_dist=%{z}<extra></extra>",
         "legendgroup": "5",
         "marker": {
          "color": "rgb(200, 200, 200)",
          "symbol": "circle"
         },
         "mode": "markers",
         "name": "5",
         "scene": "scene",
         "showlegend": true,
         "type": "scatter3d",
         "x": [
          1471.8764,
          1595.9552,
          1375.405,
          1621.6338,
          984.9173,
          1990.2182,
          1222.0806,
          1242.4749,
          975.0977,
          1016.9666,
          857.2725,
          929.0261,
          1077.8192,
          1265.1333,
          1130.6906,
          1550.6363,
          658.6277,
          745.4868,
          380.9403,
          393.5161,
          544,
          1734.2247,
          1367.0984,
          603.4911,
          1263.6208,
          1787.2966,
          1083.1051,
          808.9334,
          1920.7336,
          2381.4635,
          1497.0098,
          1343.6834
         ],
         "y": [
          859.5367,
          845.4298,
          1511.3602,
          644.2792,
          838.3893,
          963.7689,
          1593.6876,
          738.3376,
          952.4382,
          932.0459,
          1345.194,
          2058.1223,
          1200.1767,
          1237.0612,
          1188.0924,
          1006.0656,
          1837.6498,
          737.1773,
          1020.4146,
          881.1644,
          1224.3472,
          1060.6742,
          530.2269,
          1841.4265,
          1373.1413,
          1066.1373,
          762.8599,
          780.9856,
          1560.9587,
          462.642,
          242.5128,
          311.4159
         ],
         "z": [
          1735.6842,
          2865.9125,
          1663.2271,
          1495.4987,
          1934.8042,
          1777.1506,
          1680.5472,
          1209.9977,
          1941.8307,
          2109.6317,
          2056.6859,
          1709.2475,
          1959.2522,
          2359.1969,
          2145.8117,
          1769.3459,
          2211.5215,
          1864.0831,
          1421.2534,
          2196.2652,
          1778.7106,
          2194.1503,
          2286.0196,
          1903.5862,
          1429.0571,
          1901.0959,
          1606.5288,
          1879.3927,
          1487.1921,
          1583.1143,
          1621.6344,
          2047.1941
         ]
        },
        {
         "hovertemplate": "location=6<br>r_dist=%{x}<br>g_dist=%{y}<br>b_dist=%{z}<extra></extra>",
         "legendgroup": "6",
         "marker": {
          "color": "rgb(0, 255, 0)",
          "symbol": "circle"
         },
         "mode": "markers",
         "name": "6",
         "scene": "scene",
         "showlegend": true,
         "type": "scatter3d",
         "x": [
          620.0819,
          688.8402,
          864.8231,
          358.2464,
          826.3026,
          543.8218,
          952.1874,
          434.3057,
          1247.0071,
          1543.8403,
          913.1636,
          838.3893,
          562.7036,
          1247.7607,
          1138.2417,
          714.5208,
          1006.0141,
          1055.1598,
          1012.108,
          1309.6952,
          1394.2877,
          1214.5271,
          1268.9086,
          871.7987
         ],
         "y": [
          1544.5675,
          1344.44,
          1266.7207,
          1587.6461,
          1086.7529,
          1806.027,
          752.4921,
          1174.498,
          1577.3489,
          1188.8484,
          1151.0815,
          1132.9558,
          1403.3022,
          1324.8007,
          1237.9445,
          1206.2195,
          1191.8686,
          1484.169,
          1935.3183,
          1527.3965,
          1257.5794,
          1264.3778,
          1316.4932,
          1300.6321
         ],
         "z": [
          1920.7341,
          1688.1016,
          2054.9999,
          1846.7138,
          2222.8018,
          1848.9785,
          1562.7201,
          2160.3633,
          2349.5082,
          2459.2851,
          2055.1768,
          2950.9841,
          2037.0492,
          2500.6501,
          1936.5932,
          2382.2204,
          1749.2796,
          2159.5836,
          1865.3446,
          1845.6984,
          2446.7969,
          2193.1427,
          1928.05,
          2168.4706
         ]
        }
       ],
       "layout": {
        "legend": {
         "title": {
          "text": "location"
         },
         "tracegroupgap": 0
        },
        "margin": {
         "t": 60
        },
        "scene": {
         "domain": {
          "x": [
           0,
           1
          ],
          "y": [
           0,
           1
          ]
         },
         "xaxis": {
          "title": {
           "text": "r_dist"
          }
         },
         "yaxis": {
          "title": {
           "text": "g_dist"
          }
         },
         "zaxis": {
          "title": {
           "text": "b_dist"
          }
         }
        },
        "template": {
         "data": {
          "bar": [
           {
            "error_x": {
             "color": "#2a3f5f"
            },
            "error_y": {
             "color": "#2a3f5f"
            },
            "marker": {
             "line": {
              "color": "#E5ECF6",
              "width": 0.5
             },
             "pattern": {
              "fillmode": "overlay",
              "size": 10,
              "solidity": 0.2
             }
            },
            "type": "bar"
           }
          ],
          "barpolar": [
           {
            "marker": {
             "line": {
              "color": "#E5ECF6",
              "width": 0.5
             },
             "pattern": {
              "fillmode": "overlay",
              "size": 10,
              "solidity": 0.2
             }
            },
            "type": "barpolar"
           }
          ],
          "carpet": [
           {
            "aaxis": {
             "endlinecolor": "#2a3f5f",
             "gridcolor": "white",
             "linecolor": "white",
             "minorgridcolor": "white",
             "startlinecolor": "#2a3f5f"
            },
            "baxis": {
             "endlinecolor": "#2a3f5f",
             "gridcolor": "white",
             "linecolor": "white",
             "minorgridcolor": "white",
             "startlinecolor": "#2a3f5f"
            },
            "type": "carpet"
           }
          ],
          "choropleth": [
           {
            "colorbar": {
             "outlinewidth": 0,
             "ticks": ""
            },
            "type": "choropleth"
           }
          ],
          "contour": [
           {
            "colorbar": {
             "outlinewidth": 0,
             "ticks": ""
            },
            "colorscale": [
             [
              0,
              "#0d0887"
             ],
             [
              0.1111111111111111,
              "#46039f"
             ],
             [
              0.2222222222222222,
              "#7201a8"
             ],
             [
              0.3333333333333333,
              "#9c179e"
             ],
             [
              0.4444444444444444,
              "#bd3786"
             ],
             [
              0.5555555555555556,
              "#d8576b"
             ],
             [
              0.6666666666666666,
              "#ed7953"
             ],
             [
              0.7777777777777778,
              "#fb9f3a"
             ],
             [
              0.8888888888888888,
              "#fdca26"
             ],
             [
              1,
              "#f0f921"
             ]
            ],
            "type": "contour"
           }
          ],
          "contourcarpet": [
           {
            "colorbar": {
             "outlinewidth": 0,
             "ticks": ""
            },
            "type": "contourcarpet"
           }
          ],
          "heatmap": [
           {
            "colorbar": {
             "outlinewidth": 0,
             "ticks": ""
            },
            "colorscale": [
             [
              0,
              "#0d0887"
             ],
             [
              0.1111111111111111,
              "#46039f"
             ],
             [
              0.2222222222222222,
              "#7201a8"
             ],
             [
              0.3333333333333333,
              "#9c179e"
             ],
             [
              0.4444444444444444,
              "#bd3786"
             ],
             [
              0.5555555555555556,
              "#d8576b"
             ],
             [
              0.6666666666666666,
              "#ed7953"
             ],
             [
              0.7777777777777778,
              "#fb9f3a"
             ],
             [
              0.8888888888888888,
              "#fdca26"
             ],
             [
              1,
              "#f0f921"
             ]
            ],
            "type": "heatmap"
           }
          ],
          "heatmapgl": [
           {
            "colorbar": {
             "outlinewidth": 0,
             "ticks": ""
            },
            "colorscale": [
             [
              0,
              "#0d0887"
             ],
             [
              0.1111111111111111,
              "#46039f"
             ],
             [
              0.2222222222222222,
              "#7201a8"
             ],
             [
              0.3333333333333333,
              "#9c179e"
             ],
             [
              0.4444444444444444,
              "#bd3786"
             ],
             [
              0.5555555555555556,
              "#d8576b"
             ],
             [
              0.6666666666666666,
              "#ed7953"
             ],
             [
              0.7777777777777778,
              "#fb9f3a"
             ],
             [
              0.8888888888888888,
              "#fdca26"
             ],
             [
              1,
              "#f0f921"
             ]
            ],
            "type": "heatmapgl"
           }
          ],
          "histogram": [
           {
            "marker": {
             "pattern": {
              "fillmode": "overlay",
              "size": 10,
              "solidity": 0.2
             }
            },
            "type": "histogram"
           }
          ],
          "histogram2d": [
           {
            "colorbar": {
             "outlinewidth": 0,
             "ticks": ""
            },
            "colorscale": [
             [
              0,
              "#0d0887"
             ],
             [
              0.1111111111111111,
              "#46039f"
             ],
             [
              0.2222222222222222,
              "#7201a8"
             ],
             [
              0.3333333333333333,
              "#9c179e"
             ],
             [
              0.4444444444444444,
              "#bd3786"
             ],
             [
              0.5555555555555556,
              "#d8576b"
             ],
             [
              0.6666666666666666,
              "#ed7953"
             ],
             [
              0.7777777777777778,
              "#fb9f3a"
             ],
             [
              0.8888888888888888,
              "#fdca26"
             ],
             [
              1,
              "#f0f921"
             ]
            ],
            "type": "histogram2d"
           }
          ],
          "histogram2dcontour": [
           {
            "colorbar": {
             "outlinewidth": 0,
             "ticks": ""
            },
            "colorscale": [
             [
              0,
              "#0d0887"
             ],
             [
              0.1111111111111111,
              "#46039f"
             ],
             [
              0.2222222222222222,
              "#7201a8"
             ],
             [
              0.3333333333333333,
              "#9c179e"
             ],
             [
              0.4444444444444444,
              "#bd3786"
             ],
             [
              0.5555555555555556,
              "#d8576b"
             ],
             [
              0.6666666666666666,
              "#ed7953"
             ],
             [
              0.7777777777777778,
              "#fb9f3a"
             ],
             [
              0.8888888888888888,
              "#fdca26"
             ],
             [
              1,
              "#f0f921"
             ]
            ],
            "type": "histogram2dcontour"
           }
          ],
          "mesh3d": [
           {
            "colorbar": {
             "outlinewidth": 0,
             "ticks": ""
            },
            "type": "mesh3d"
           }
          ],
          "parcoords": [
           {
            "line": {
             "colorbar": {
              "outlinewidth": 0,
              "ticks": ""
             }
            },
            "type": "parcoords"
           }
          ],
          "pie": [
           {
            "automargin": true,
            "type": "pie"
           }
          ],
          "scatter": [
           {
            "fillpattern": {
             "fillmode": "overlay",
             "size": 10,
             "solidity": 0.2
            },
            "type": "scatter"
           }
          ],
          "scatter3d": [
           {
            "line": {
             "colorbar": {
              "outlinewidth": 0,
              "ticks": ""
             }
            },
            "marker": {
             "colorbar": {
              "outlinewidth": 0,
              "ticks": ""
             }
            },
            "type": "scatter3d"
           }
          ],
          "scattercarpet": [
           {
            "marker": {
             "colorbar": {
              "outlinewidth": 0,
              "ticks": ""
             }
            },
            "type": "scattercarpet"
           }
          ],
          "scattergeo": [
           {
            "marker": {
             "colorbar": {
              "outlinewidth": 0,
              "ticks": ""
             }
            },
            "type": "scattergeo"
           }
          ],
          "scattergl": [
           {
            "marker": {
             "colorbar": {
              "outlinewidth": 0,
              "ticks": ""
             }
            },
            "type": "scattergl"
           }
          ],
          "scattermapbox": [
           {
            "marker": {
             "colorbar": {
              "outlinewidth": 0,
              "ticks": ""
             }
            },
            "type": "scattermapbox"
           }
          ],
          "scatterpolar": [
           {
            "marker": {
             "colorbar": {
              "outlinewidth": 0,
              "ticks": ""
             }
            },
            "type": "scatterpolar"
           }
          ],
          "scatterpolargl": [
           {
            "marker": {
             "colorbar": {
              "outlinewidth": 0,
              "ticks": ""
             }
            },
            "type": "scatterpolargl"
           }
          ],
          "scatterternary": [
           {
            "marker": {
             "colorbar": {
              "outlinewidth": 0,
              "ticks": ""
             }
            },
            "type": "scatterternary"
           }
          ],
          "surface": [
           {
            "colorbar": {
             "outlinewidth": 0,
             "ticks": ""
            },
            "colorscale": [
             [
              0,
              "#0d0887"
             ],
             [
              0.1111111111111111,
              "#46039f"
             ],
             [
              0.2222222222222222,
              "#7201a8"
             ],
             [
              0.3333333333333333,
              "#9c179e"
             ],
             [
              0.4444444444444444,
              "#bd3786"
             ],
             [
              0.5555555555555556,
              "#d8576b"
             ],
             [
              0.6666666666666666,
              "#ed7953"
             ],
             [
              0.7777777777777778,
              "#fb9f3a"
             ],
             [
              0.8888888888888888,
              "#fdca26"
             ],
             [
              1,
              "#f0f921"
             ]
            ],
            "type": "surface"
           }
          ],
          "table": [
           {
            "cells": {
             "fill": {
              "color": "#EBF0F8"
             },
             "line": {
              "color": "white"
             }
            },
            "header": {
             "fill": {
              "color": "#C8D4E3"
             },
             "line": {
              "color": "white"
             }
            },
            "type": "table"
           }
          ]
         },
         "layout": {
          "annotationdefaults": {
           "arrowcolor": "#2a3f5f",
           "arrowhead": 0,
           "arrowwidth": 1
          },
          "autotypenumbers": "strict",
          "coloraxis": {
           "colorbar": {
            "outlinewidth": 0,
            "ticks": ""
           }
          },
          "colorscale": {
           "diverging": [
            [
             0,
             "#8e0152"
            ],
            [
             0.1,
             "#c51b7d"
            ],
            [
             0.2,
             "#de77ae"
            ],
            [
             0.3,
             "#f1b6da"
            ],
            [
             0.4,
             "#fde0ef"
            ],
            [
             0.5,
             "#f7f7f7"
            ],
            [
             0.6,
             "#e6f5d0"
            ],
            [
             0.7,
             "#b8e186"
            ],
            [
             0.8,
             "#7fbc41"
            ],
            [
             0.9,
             "#4d9221"
            ],
            [
             1,
             "#276419"
            ]
           ],
           "sequential": [
            [
             0,
             "#0d0887"
            ],
            [
             0.1111111111111111,
             "#46039f"
            ],
            [
             0.2222222222222222,
             "#7201a8"
            ],
            [
             0.3333333333333333,
             "#9c179e"
            ],
            [
             0.4444444444444444,
             "#bd3786"
            ],
            [
             0.5555555555555556,
             "#d8576b"
            ],
            [
             0.6666666666666666,
             "#ed7953"
            ],
            [
             0.7777777777777778,
             "#fb9f3a"
            ],
            [
             0.8888888888888888,
             "#fdca26"
            ],
            [
             1,
             "#f0f921"
            ]
           ],
           "sequentialminus": [
            [
             0,
             "#0d0887"
            ],
            [
             0.1111111111111111,
             "#46039f"
            ],
            [
             0.2222222222222222,
             "#7201a8"
            ],
            [
             0.3333333333333333,
             "#9c179e"
            ],
            [
             0.4444444444444444,
             "#bd3786"
            ],
            [
             0.5555555555555556,
             "#d8576b"
            ],
            [
             0.6666666666666666,
             "#ed7953"
            ],
            [
             0.7777777777777778,
             "#fb9f3a"
            ],
            [
             0.8888888888888888,
             "#fdca26"
            ],
            [
             1,
             "#f0f921"
            ]
           ]
          },
          "colorway": [
           "#636efa",
           "#EF553B",
           "#00cc96",
           "#ab63fa",
           "#FFA15A",
           "#19d3f3",
           "#FF6692",
           "#B6E880",
           "#FF97FF",
           "#FECB52"
          ],
          "font": {
           "color": "#2a3f5f"
          },
          "geo": {
           "bgcolor": "white",
           "lakecolor": "white",
           "landcolor": "#E5ECF6",
           "showlakes": true,
           "showland": true,
           "subunitcolor": "white"
          },
          "hoverlabel": {
           "align": "left"
          },
          "hovermode": "closest",
          "mapbox": {
           "style": "light"
          },
          "paper_bgcolor": "white",
          "plot_bgcolor": "#E5ECF6",
          "polar": {
           "angularaxis": {
            "gridcolor": "white",
            "linecolor": "white",
            "ticks": ""
           },
           "bgcolor": "#E5ECF6",
           "radialaxis": {
            "gridcolor": "white",
            "linecolor": "white",
            "ticks": ""
           }
          },
          "scene": {
           "xaxis": {
            "backgroundcolor": "#E5ECF6",
            "gridcolor": "white",
            "gridwidth": 2,
            "linecolor": "white",
            "showbackground": true,
            "ticks": "",
            "zerolinecolor": "white"
           },
           "yaxis": {
            "backgroundcolor": "#E5ECF6",
            "gridcolor": "white",
            "gridwidth": 2,
            "linecolor": "white",
            "showbackground": true,
            "ticks": "",
            "zerolinecolor": "white"
           },
           "zaxis": {
            "backgroundcolor": "#E5ECF6",
            "gridcolor": "white",
            "gridwidth": 2,
            "linecolor": "white",
            "showbackground": true,
            "ticks": "",
            "zerolinecolor": "white"
           }
          },
          "shapedefaults": {
           "line": {
            "color": "#2a3f5f"
           }
          },
          "ternary": {
           "aaxis": {
            "gridcolor": "white",
            "linecolor": "white",
            "ticks": ""
           },
           "baxis": {
            "gridcolor": "white",
            "linecolor": "white",
            "ticks": ""
           },
           "bgcolor": "#E5ECF6",
           "caxis": {
            "gridcolor": "white",
            "linecolor": "white",
            "ticks": ""
           }
          },
          "title": {
           "x": 0.05
          },
          "xaxis": {
           "automargin": true,
           "gridcolor": "white",
           "linecolor": "white",
           "ticks": "",
           "title": {
            "standoff": 15
           },
           "zerolinecolor": "white",
           "zerolinewidth": 2
          },
          "yaxis": {
           "automargin": true,
           "gridcolor": "white",
           "linecolor": "white",
           "ticks": "",
           "title": {
            "standoff": 15
           },
           "zerolinecolor": "white",
           "zerolinewidth": 2
          }
         }
        }
       }
      }
     },
     "metadata": {},
     "output_type": "display_data"
    }
   ],
   "source": [
    "fig = px.scatter_3d(df, x='r_dist', y='g_dist', z='b_dist',\n",
    "              color='location', color_discrete_map=color_discrete_map)\n",
    "fig.show()"
   ]
  },
  {
   "cell_type": "code",
   "execution_count": 121,
   "metadata": {},
   "outputs": [
    {
     "data": {
      "application/vnd.plotly.v1+json": {
       "config": {
        "plotlyServerURL": "https://plot.ly"
       },
       "data": [
        {
         "hovertemplate": "location=0<br>r_rssi=%{x}<br>g_rssi=%{y}<br>b_rssi=%{z}<extra></extra>",
         "legendgroup": "0",
         "marker": {
          "color": "rgb(128, 0, 128)",
          "symbol": "circle"
         },
         "mode": "markers",
         "name": "0",
         "scene": "scene",
         "showlegend": true,
         "type": "scatter3d",
         "x": [
          -58,
          -57,
          -65,
          -63,
          -66,
          -67,
          -61,
          -68,
          -69,
          -64,
          -59,
          -59,
          -62,
          -72,
          -60,
          -68,
          -69,
          -68,
          -66,
          -66,
          -58,
          -61,
          -61,
          -70,
          -71,
          -66,
          -67,
          -62
         ],
         "y": [
          -54,
          -56,
          -53,
          -52,
          -52,
          -57,
          -59,
          -65,
          -63,
          -56,
          -65,
          -56,
          -59,
          -57,
          -57,
          -51,
          -56,
          -51,
          -57,
          -54,
          -58,
          -57,
          -57,
          -54,
          -59,
          -51,
          -53,
          -58
         ],
         "z": [
          -45,
          -47,
          -53,
          -42,
          -55,
          -43,
          -44,
          -44,
          -46,
          -56,
          -49,
          -42,
          -58,
          -47,
          -51,
          -52,
          -46,
          -43,
          -49,
          -51,
          -56,
          -45,
          -46,
          -51,
          -54,
          -40,
          -38,
          -33
         ]
        },
        {
         "hovertemplate": "location=1<br>r_rssi=%{x}<br>g_rssi=%{y}<br>b_rssi=%{z}<extra></extra>",
         "legendgroup": "1",
         "marker": {
          "color": "rgb(0, 0, 255)",
          "symbol": "circle"
         },
         "mode": "markers",
         "name": "1",
         "scene": "scene",
         "showlegend": true,
         "type": "scatter3d",
         "x": [
          -76,
          -66,
          -67,
          -58,
          -68,
          -64,
          -70,
          -61,
          -65,
          -65,
          -68,
          -61,
          -69,
          -64,
          -68,
          -65,
          -60,
          -63,
          -69,
          -64,
          -65,
          -63,
          -64,
          -66,
          -65,
          -67,
          -61,
          -62,
          -67,
          -65,
          -59,
          -62
         ],
         "y": [
          -68,
          -56,
          -62,
          -54,
          -59,
          -51,
          -58,
          -57,
          -59,
          -60,
          -52,
          -61,
          -57,
          -58,
          -62,
          -54,
          -63,
          -55,
          -59,
          -51,
          -58,
          -49,
          -51,
          -55,
          -53,
          -58,
          -56,
          -55,
          -55,
          -62,
          -57,
          -59
         ],
         "z": [
          -56,
          -62,
          -56,
          -55,
          -55,
          -55,
          -52,
          -53,
          -55,
          -51,
          -55,
          -56,
          -55,
          -50,
          -57,
          -51,
          -52,
          -51,
          -59,
          -56,
          -55,
          -56,
          -56,
          -49,
          -49,
          -54,
          -56,
          -50,
          -50,
          -53,
          -55,
          -51
         ]
        },
        {
         "hovertemplate": "location=2<br>r_rssi=%{x}<br>g_rssi=%{y}<br>b_rssi=%{z}<extra></extra>",
         "legendgroup": "2",
         "marker": {
          "color": "rgb(255, 0, 0)",
          "symbol": "circle"
         },
         "mode": "markers",
         "name": "2",
         "scene": "scene",
         "showlegend": true,
         "type": "scatter3d",
         "x": [
          -63,
          -71,
          -58,
          -64,
          -64,
          -65,
          -64,
          -54,
          -57,
          -63,
          -61,
          -57,
          -52,
          -60,
          -62,
          -58,
          -49,
          -57,
          -71,
          -66,
          -55,
          -55,
          -63,
          -64,
          -60,
          -54,
          -59,
          -63,
          -61,
          -53,
          -62,
          -62
         ],
         "y": [
          -59,
          -57,
          -51,
          -54,
          -52,
          -54,
          -48,
          -47,
          -46,
          -62,
          -47,
          -48,
          -57,
          -55,
          -53,
          -54,
          -53,
          -59,
          -54,
          -49,
          -52,
          -49,
          -52,
          -53,
          -54,
          -54,
          -59,
          -60,
          -51,
          -50,
          -49,
          -59
         ],
         "z": [
          -51,
          -55,
          -56,
          -52,
          -49,
          -50,
          -55,
          -52,
          -53,
          -54,
          -55,
          -54,
          -53,
          -48,
          -51,
          -63,
          -57,
          -49,
          -51,
          -51,
          -54,
          -52,
          -53,
          -48,
          -52,
          -53,
          -45,
          -51,
          -50,
          -51,
          -55,
          -53
         ]
        },
        {
         "hovertemplate": "location=3<br>r_rssi=%{x}<br>g_rssi=%{y}<br>b_rssi=%{z}<extra></extra>",
         "legendgroup": "3",
         "marker": {
          "color": "rgb(0, 128, 128)",
          "symbol": "circle"
         },
         "mode": "markers",
         "name": "3",
         "scene": "scene",
         "showlegend": true,
         "type": "scatter3d",
         "x": [
          -57,
          -60,
          -57,
          -60,
          -57,
          -59,
          -56,
          -58,
          -59,
          -53,
          -55,
          -64,
          -59,
          -54,
          -57,
          -63,
          -61,
          -56,
          -60,
          -60,
          -57,
          -62,
          -62,
          -60,
          -57,
          -58,
          -64,
          -59,
          -62,
          -66,
          -55,
          -62
         ],
         "y": [
          -54,
          -52,
          -47,
          -55,
          -52,
          -55,
          -50,
          -52,
          -44,
          -49,
          -50,
          -53,
          -43,
          -52,
          -62,
          -47,
          -39,
          -43,
          -46,
          -53,
          -49,
          -56,
          -49,
          -43,
          -53,
          -60,
          -51,
          -46,
          -55,
          -56,
          -51,
          -60
         ],
         "z": [
          -54,
          -45,
          -50,
          -54,
          -50,
          -54,
          -48,
          -51,
          -53,
          -58,
          -51,
          -52,
          -53,
          -56,
          -50,
          -53,
          -58,
          -56,
          -53,
          -57,
          -50,
          -56,
          -54,
          -54,
          -53,
          -53,
          -54,
          -54,
          -52,
          -52,
          -51,
          -58
         ]
        },
        {
         "hovertemplate": "location=4<br>r_rssi=%{x}<br>g_rssi=%{y}<br>b_rssi=%{z}<extra></extra>",
         "legendgroup": "4",
         "marker": {
          "color": "rgb(200, 128, 0)",
          "symbol": "circle"
         },
         "mode": "markers",
         "name": "4",
         "scene": "scene",
         "showlegend": true,
         "type": "scatter3d",
         "x": [
          -58,
          -56,
          -59,
          -68,
          -65,
          -65,
          -61,
          -63,
          -58,
          -59,
          -68,
          -65,
          -56,
          -56,
          -65,
          -61
         ],
         "y": [
          -53,
          -53,
          -57,
          -64,
          -52,
          -53,
          -55,
          -58,
          -56,
          -57,
          -52,
          -58,
          -50,
          -45,
          -53,
          -55
         ],
         "z": [
          -56,
          -54,
          -54,
          -55,
          -53,
          -53,
          -53,
          -53,
          -56,
          -57,
          -53,
          -58,
          -57,
          -61,
          -56,
          -54
         ]
        },
        {
         "hovertemplate": "location=5<br>r_rssi=%{x}<br>g_rssi=%{y}<br>b_rssi=%{z}<extra></extra>",
         "legendgroup": "5",
         "marker": {
          "color": "rgb(200, 200, 200)",
          "symbol": "circle"
         },
         "mode": "markers",
         "name": "5",
         "scene": "scene",
         "showlegend": true,
         "type": "scatter3d",
         "x": [
          -55,
          -55,
          -52,
          -55,
          -50,
          -52,
          -51,
          -54,
          -50,
          -56,
          -52,
          -53,
          -48,
          -46,
          -48,
          -55,
          -43,
          -50,
          -40,
          -48,
          -50,
          -56,
          -50,
          -43,
          -52,
          -56,
          -54,
          -52,
          -57,
          -60,
          -57,
          -53
         ],
         "y": [
          -44,
          -52,
          -50,
          -48,
          -46,
          -49,
          -54,
          -50,
          -50,
          -47,
          -55,
          -61,
          -46,
          -47,
          -49,
          -49,
          -55,
          -44,
          -52,
          -54,
          -52,
          -47,
          -51,
          -56,
          -55,
          -48,
          -44,
          -49,
          -55,
          -44,
          -38,
          -44
         ],
         "z": [
          -57,
          -62,
          -56,
          -54,
          -57,
          -57,
          -54,
          -53,
          -59,
          -58,
          -59,
          -57,
          -55,
          -60,
          -59,
          -55,
          -58,
          -52,
          -61,
          -58,
          -57,
          -59,
          -60,
          -53,
          -54,
          -56,
          -55,
          -56,
          -55,
          -57,
          -57,
          -58
         ]
        },
        {
         "hovertemplate": "location=6<br>r_rssi=%{x}<br>g_rssi=%{y}<br>b_rssi=%{z}<extra></extra>",
         "legendgroup": "6",
         "marker": {
          "color": "rgb(0, 255, 0)",
          "symbol": "circle"
         },
         "mode": "markers",
         "name": "6",
         "scene": "scene",
         "showlegend": true,
         "type": "scatter3d",
         "x": [
          -45,
          -47,
          -49,
          -40,
          -52,
          -46,
          -54,
          -39,
          -58,
          -53,
          -46,
          -46,
          -47,
          -54,
          -55,
          -48,
          -50,
          -55,
          -48,
          -53,
          -52,
          -52,
          -57,
          -45
         ],
         "y": [
          -53,
          -54,
          -52,
          -54,
          -51,
          -59,
          -51,
          -53,
          -53,
          -54,
          -49,
          -51,
          -48,
          -51,
          -51,
          -54,
          -48,
          -53,
          -55,
          -59,
          -53,
          -54,
          -48,
          -55
         ],
         "z": [
          -60,
          -54,
          -66,
          -60,
          -61,
          -57,
          -54,
          -60,
          -62,
          -61,
          -62,
          -65,
          -60,
          -60,
          -58,
          -62,
          -56,
          -59,
          -58,
          -61,
          -64,
          -57,
          -58,
          -62
         ]
        }
       ],
       "layout": {
        "legend": {
         "title": {
          "text": "location"
         },
         "tracegroupgap": 0
        },
        "margin": {
         "t": 60
        },
        "scene": {
         "domain": {
          "x": [
           0,
           1
          ],
          "y": [
           0,
           1
          ]
         },
         "xaxis": {
          "title": {
           "text": "r_rssi"
          }
         },
         "yaxis": {
          "title": {
           "text": "g_rssi"
          }
         },
         "zaxis": {
          "title": {
           "text": "b_rssi"
          }
         }
        },
        "template": {
         "data": {
          "bar": [
           {
            "error_x": {
             "color": "#2a3f5f"
            },
            "error_y": {
             "color": "#2a3f5f"
            },
            "marker": {
             "line": {
              "color": "#E5ECF6",
              "width": 0.5
             },
             "pattern": {
              "fillmode": "overlay",
              "size": 10,
              "solidity": 0.2
             }
            },
            "type": "bar"
           }
          ],
          "barpolar": [
           {
            "marker": {
             "line": {
              "color": "#E5ECF6",
              "width": 0.5
             },
             "pattern": {
              "fillmode": "overlay",
              "size": 10,
              "solidity": 0.2
             }
            },
            "type": "barpolar"
           }
          ],
          "carpet": [
           {
            "aaxis": {
             "endlinecolor": "#2a3f5f",
             "gridcolor": "white",
             "linecolor": "white",
             "minorgridcolor": "white",
             "startlinecolor": "#2a3f5f"
            },
            "baxis": {
             "endlinecolor": "#2a3f5f",
             "gridcolor": "white",
             "linecolor": "white",
             "minorgridcolor": "white",
             "startlinecolor": "#2a3f5f"
            },
            "type": "carpet"
           }
          ],
          "choropleth": [
           {
            "colorbar": {
             "outlinewidth": 0,
             "ticks": ""
            },
            "type": "choropleth"
           }
          ],
          "contour": [
           {
            "colorbar": {
             "outlinewidth": 0,
             "ticks": ""
            },
            "colorscale": [
             [
              0,
              "#0d0887"
             ],
             [
              0.1111111111111111,
              "#46039f"
             ],
             [
              0.2222222222222222,
              "#7201a8"
             ],
             [
              0.3333333333333333,
              "#9c179e"
             ],
             [
              0.4444444444444444,
              "#bd3786"
             ],
             [
              0.5555555555555556,
              "#d8576b"
             ],
             [
              0.6666666666666666,
              "#ed7953"
             ],
             [
              0.7777777777777778,
              "#fb9f3a"
             ],
             [
              0.8888888888888888,
              "#fdca26"
             ],
             [
              1,
              "#f0f921"
             ]
            ],
            "type": "contour"
           }
          ],
          "contourcarpet": [
           {
            "colorbar": {
             "outlinewidth": 0,
             "ticks": ""
            },
            "type": "contourcarpet"
           }
          ],
          "heatmap": [
           {
            "colorbar": {
             "outlinewidth": 0,
             "ticks": ""
            },
            "colorscale": [
             [
              0,
              "#0d0887"
             ],
             [
              0.1111111111111111,
              "#46039f"
             ],
             [
              0.2222222222222222,
              "#7201a8"
             ],
             [
              0.3333333333333333,
              "#9c179e"
             ],
             [
              0.4444444444444444,
              "#bd3786"
             ],
             [
              0.5555555555555556,
              "#d8576b"
             ],
             [
              0.6666666666666666,
              "#ed7953"
             ],
             [
              0.7777777777777778,
              "#fb9f3a"
             ],
             [
              0.8888888888888888,
              "#fdca26"
             ],
             [
              1,
              "#f0f921"
             ]
            ],
            "type": "heatmap"
           }
          ],
          "heatmapgl": [
           {
            "colorbar": {
             "outlinewidth": 0,
             "ticks": ""
            },
            "colorscale": [
             [
              0,
              "#0d0887"
             ],
             [
              0.1111111111111111,
              "#46039f"
             ],
             [
              0.2222222222222222,
              "#7201a8"
             ],
             [
              0.3333333333333333,
              "#9c179e"
             ],
             [
              0.4444444444444444,
              "#bd3786"
             ],
             [
              0.5555555555555556,
              "#d8576b"
             ],
             [
              0.6666666666666666,
              "#ed7953"
             ],
             [
              0.7777777777777778,
              "#fb9f3a"
             ],
             [
              0.8888888888888888,
              "#fdca26"
             ],
             [
              1,
              "#f0f921"
             ]
            ],
            "type": "heatmapgl"
           }
          ],
          "histogram": [
           {
            "marker": {
             "pattern": {
              "fillmode": "overlay",
              "size": 10,
              "solidity": 0.2
             }
            },
            "type": "histogram"
           }
          ],
          "histogram2d": [
           {
            "colorbar": {
             "outlinewidth": 0,
             "ticks": ""
            },
            "colorscale": [
             [
              0,
              "#0d0887"
             ],
             [
              0.1111111111111111,
              "#46039f"
             ],
             [
              0.2222222222222222,
              "#7201a8"
             ],
             [
              0.3333333333333333,
              "#9c179e"
             ],
             [
              0.4444444444444444,
              "#bd3786"
             ],
             [
              0.5555555555555556,
              "#d8576b"
             ],
             [
              0.6666666666666666,
              "#ed7953"
             ],
             [
              0.7777777777777778,
              "#fb9f3a"
             ],
             [
              0.8888888888888888,
              "#fdca26"
             ],
             [
              1,
              "#f0f921"
             ]
            ],
            "type": "histogram2d"
           }
          ],
          "histogram2dcontour": [
           {
            "colorbar": {
             "outlinewidth": 0,
             "ticks": ""
            },
            "colorscale": [
             [
              0,
              "#0d0887"
             ],
             [
              0.1111111111111111,
              "#46039f"
             ],
             [
              0.2222222222222222,
              "#7201a8"
             ],
             [
              0.3333333333333333,
              "#9c179e"
             ],
             [
              0.4444444444444444,
              "#bd3786"
             ],
             [
              0.5555555555555556,
              "#d8576b"
             ],
             [
              0.6666666666666666,
              "#ed7953"
             ],
             [
              0.7777777777777778,
              "#fb9f3a"
             ],
             [
              0.8888888888888888,
              "#fdca26"
             ],
             [
              1,
              "#f0f921"
             ]
            ],
            "type": "histogram2dcontour"
           }
          ],
          "mesh3d": [
           {
            "colorbar": {
             "outlinewidth": 0,
             "ticks": ""
            },
            "type": "mesh3d"
           }
          ],
          "parcoords": [
           {
            "line": {
             "colorbar": {
              "outlinewidth": 0,
              "ticks": ""
             }
            },
            "type": "parcoords"
           }
          ],
          "pie": [
           {
            "automargin": true,
            "type": "pie"
           }
          ],
          "scatter": [
           {
            "fillpattern": {
             "fillmode": "overlay",
             "size": 10,
             "solidity": 0.2
            },
            "type": "scatter"
           }
          ],
          "scatter3d": [
           {
            "line": {
             "colorbar": {
              "outlinewidth": 0,
              "ticks": ""
             }
            },
            "marker": {
             "colorbar": {
              "outlinewidth": 0,
              "ticks": ""
             }
            },
            "type": "scatter3d"
           }
          ],
          "scattercarpet": [
           {
            "marker": {
             "colorbar": {
              "outlinewidth": 0,
              "ticks": ""
             }
            },
            "type": "scattercarpet"
           }
          ],
          "scattergeo": [
           {
            "marker": {
             "colorbar": {
              "outlinewidth": 0,
              "ticks": ""
             }
            },
            "type": "scattergeo"
           }
          ],
          "scattergl": [
           {
            "marker": {
             "colorbar": {
              "outlinewidth": 0,
              "ticks": ""
             }
            },
            "type": "scattergl"
           }
          ],
          "scattermapbox": [
           {
            "marker": {
             "colorbar": {
              "outlinewidth": 0,
              "ticks": ""
             }
            },
            "type": "scattermapbox"
           }
          ],
          "scatterpolar": [
           {
            "marker": {
             "colorbar": {
              "outlinewidth": 0,
              "ticks": ""
             }
            },
            "type": "scatterpolar"
           }
          ],
          "scatterpolargl": [
           {
            "marker": {
             "colorbar": {
              "outlinewidth": 0,
              "ticks": ""
             }
            },
            "type": "scatterpolargl"
           }
          ],
          "scatterternary": [
           {
            "marker": {
             "colorbar": {
              "outlinewidth": 0,
              "ticks": ""
             }
            },
            "type": "scatterternary"
           }
          ],
          "surface": [
           {
            "colorbar": {
             "outlinewidth": 0,
             "ticks": ""
            },
            "colorscale": [
             [
              0,
              "#0d0887"
             ],
             [
              0.1111111111111111,
              "#46039f"
             ],
             [
              0.2222222222222222,
              "#7201a8"
             ],
             [
              0.3333333333333333,
              "#9c179e"
             ],
             [
              0.4444444444444444,
              "#bd3786"
             ],
             [
              0.5555555555555556,
              "#d8576b"
             ],
             [
              0.6666666666666666,
              "#ed7953"
             ],
             [
              0.7777777777777778,
              "#fb9f3a"
             ],
             [
              0.8888888888888888,
              "#fdca26"
             ],
             [
              1,
              "#f0f921"
             ]
            ],
            "type": "surface"
           }
          ],
          "table": [
           {
            "cells": {
             "fill": {
              "color": "#EBF0F8"
             },
             "line": {
              "color": "white"
             }
            },
            "header": {
             "fill": {
              "color": "#C8D4E3"
             },
             "line": {
              "color": "white"
             }
            },
            "type": "table"
           }
          ]
         },
         "layout": {
          "annotationdefaults": {
           "arrowcolor": "#2a3f5f",
           "arrowhead": 0,
           "arrowwidth": 1
          },
          "autotypenumbers": "strict",
          "coloraxis": {
           "colorbar": {
            "outlinewidth": 0,
            "ticks": ""
           }
          },
          "colorscale": {
           "diverging": [
            [
             0,
             "#8e0152"
            ],
            [
             0.1,
             "#c51b7d"
            ],
            [
             0.2,
             "#de77ae"
            ],
            [
             0.3,
             "#f1b6da"
            ],
            [
             0.4,
             "#fde0ef"
            ],
            [
             0.5,
             "#f7f7f7"
            ],
            [
             0.6,
             "#e6f5d0"
            ],
            [
             0.7,
             "#b8e186"
            ],
            [
             0.8,
             "#7fbc41"
            ],
            [
             0.9,
             "#4d9221"
            ],
            [
             1,
             "#276419"
            ]
           ],
           "sequential": [
            [
             0,
             "#0d0887"
            ],
            [
             0.1111111111111111,
             "#46039f"
            ],
            [
             0.2222222222222222,
             "#7201a8"
            ],
            [
             0.3333333333333333,
             "#9c179e"
            ],
            [
             0.4444444444444444,
             "#bd3786"
            ],
            [
             0.5555555555555556,
             "#d8576b"
            ],
            [
             0.6666666666666666,
             "#ed7953"
            ],
            [
             0.7777777777777778,
             "#fb9f3a"
            ],
            [
             0.8888888888888888,
             "#fdca26"
            ],
            [
             1,
             "#f0f921"
            ]
           ],
           "sequentialminus": [
            [
             0,
             "#0d0887"
            ],
            [
             0.1111111111111111,
             "#46039f"
            ],
            [
             0.2222222222222222,
             "#7201a8"
            ],
            [
             0.3333333333333333,
             "#9c179e"
            ],
            [
             0.4444444444444444,
             "#bd3786"
            ],
            [
             0.5555555555555556,
             "#d8576b"
            ],
            [
             0.6666666666666666,
             "#ed7953"
            ],
            [
             0.7777777777777778,
             "#fb9f3a"
            ],
            [
             0.8888888888888888,
             "#fdca26"
            ],
            [
             1,
             "#f0f921"
            ]
           ]
          },
          "colorway": [
           "#636efa",
           "#EF553B",
           "#00cc96",
           "#ab63fa",
           "#FFA15A",
           "#19d3f3",
           "#FF6692",
           "#B6E880",
           "#FF97FF",
           "#FECB52"
          ],
          "font": {
           "color": "#2a3f5f"
          },
          "geo": {
           "bgcolor": "white",
           "lakecolor": "white",
           "landcolor": "#E5ECF6",
           "showlakes": true,
           "showland": true,
           "subunitcolor": "white"
          },
          "hoverlabel": {
           "align": "left"
          },
          "hovermode": "closest",
          "mapbox": {
           "style": "light"
          },
          "paper_bgcolor": "white",
          "plot_bgcolor": "#E5ECF6",
          "polar": {
           "angularaxis": {
            "gridcolor": "white",
            "linecolor": "white",
            "ticks": ""
           },
           "bgcolor": "#E5ECF6",
           "radialaxis": {
            "gridcolor": "white",
            "linecolor": "white",
            "ticks": ""
           }
          },
          "scene": {
           "xaxis": {
            "backgroundcolor": "#E5ECF6",
            "gridcolor": "white",
            "gridwidth": 2,
            "linecolor": "white",
            "showbackground": true,
            "ticks": "",
            "zerolinecolor": "white"
           },
           "yaxis": {
            "backgroundcolor": "#E5ECF6",
            "gridcolor": "white",
            "gridwidth": 2,
            "linecolor": "white",
            "showbackground": true,
            "ticks": "",
            "zerolinecolor": "white"
           },
           "zaxis": {
            "backgroundcolor": "#E5ECF6",
            "gridcolor": "white",
            "gridwidth": 2,
            "linecolor": "white",
            "showbackground": true,
            "ticks": "",
            "zerolinecolor": "white"
           }
          },
          "shapedefaults": {
           "line": {
            "color": "#2a3f5f"
           }
          },
          "ternary": {
           "aaxis": {
            "gridcolor": "white",
            "linecolor": "white",
            "ticks": ""
           },
           "baxis": {
            "gridcolor": "white",
            "linecolor": "white",
            "ticks": ""
           },
           "bgcolor": "#E5ECF6",
           "caxis": {
            "gridcolor": "white",
            "linecolor": "white",
            "ticks": ""
           }
          },
          "title": {
           "x": 0.05
          },
          "xaxis": {
           "automargin": true,
           "gridcolor": "white",
           "linecolor": "white",
           "ticks": "",
           "title": {
            "standoff": 15
           },
           "zerolinecolor": "white",
           "zerolinewidth": 2
          },
          "yaxis": {
           "automargin": true,
           "gridcolor": "white",
           "linecolor": "white",
           "ticks": "",
           "title": {
            "standoff": 15
           },
           "zerolinecolor": "white",
           "zerolinewidth": 2
          }
         }
        }
       }
      }
     },
     "metadata": {},
     "output_type": "display_data"
    }
   ],
   "source": [
    "fig = px.scatter_3d(df, x='r_rssi', y='g_rssi', z='b_rssi',\n",
    "              color='location', color_discrete_map=color_discrete_map)\n",
    "fig.show()"
   ]
  },
  {
   "cell_type": "code",
   "execution_count": 128,
   "metadata": {},
   "outputs": [],
   "source": [
    "X = df.drop('location', axis=1)\n",
    "y = df['location']\n",
    "\n",
    "X_train, X_test, y_train, y_test = train_test_split(X, y, test_size=0.2)"
   ]
  },
  {
   "cell_type": "code",
   "execution_count": 129,
   "metadata": {},
   "outputs": [
    {
     "data": {
      "text/html": [
       "<style>#sk-container-id-18 {\n",
       "  /* Definition of color scheme common for light and dark mode */\n",
       "  --sklearn-color-text: black;\n",
       "  --sklearn-color-line: gray;\n",
       "  /* Definition of color scheme for unfitted estimators */\n",
       "  --sklearn-color-unfitted-level-0: #fff5e6;\n",
       "  --sklearn-color-unfitted-level-1: #f6e4d2;\n",
       "  --sklearn-color-unfitted-level-2: #ffe0b3;\n",
       "  --sklearn-color-unfitted-level-3: chocolate;\n",
       "  /* Definition of color scheme for fitted estimators */\n",
       "  --sklearn-color-fitted-level-0: #f0f8ff;\n",
       "  --sklearn-color-fitted-level-1: #d4ebff;\n",
       "  --sklearn-color-fitted-level-2: #b3dbfd;\n",
       "  --sklearn-color-fitted-level-3: cornflowerblue;\n",
       "\n",
       "  /* Specific color for light theme */\n",
       "  --sklearn-color-text-on-default-background: var(--sg-text-color, var(--theme-code-foreground, var(--jp-content-font-color1, black)));\n",
       "  --sklearn-color-background: var(--sg-background-color, var(--theme-background, var(--jp-layout-color0, white)));\n",
       "  --sklearn-color-border-box: var(--sg-text-color, var(--theme-code-foreground, var(--jp-content-font-color1, black)));\n",
       "  --sklearn-color-icon: #696969;\n",
       "\n",
       "  @media (prefers-color-scheme: dark) {\n",
       "    /* Redefinition of color scheme for dark theme */\n",
       "    --sklearn-color-text-on-default-background: var(--sg-text-color, var(--theme-code-foreground, var(--jp-content-font-color1, white)));\n",
       "    --sklearn-color-background: var(--sg-background-color, var(--theme-background, var(--jp-layout-color0, #111)));\n",
       "    --sklearn-color-border-box: var(--sg-text-color, var(--theme-code-foreground, var(--jp-content-font-color1, white)));\n",
       "    --sklearn-color-icon: #878787;\n",
       "  }\n",
       "}\n",
       "\n",
       "#sk-container-id-18 {\n",
       "  color: var(--sklearn-color-text);\n",
       "}\n",
       "\n",
       "#sk-container-id-18 pre {\n",
       "  padding: 0;\n",
       "}\n",
       "\n",
       "#sk-container-id-18 input.sk-hidden--visually {\n",
       "  border: 0;\n",
       "  clip: rect(1px 1px 1px 1px);\n",
       "  clip: rect(1px, 1px, 1px, 1px);\n",
       "  height: 1px;\n",
       "  margin: -1px;\n",
       "  overflow: hidden;\n",
       "  padding: 0;\n",
       "  position: absolute;\n",
       "  width: 1px;\n",
       "}\n",
       "\n",
       "#sk-container-id-18 div.sk-dashed-wrapped {\n",
       "  border: 1px dashed var(--sklearn-color-line);\n",
       "  margin: 0 0.4em 0.5em 0.4em;\n",
       "  box-sizing: border-box;\n",
       "  padding-bottom: 0.4em;\n",
       "  background-color: var(--sklearn-color-background);\n",
       "}\n",
       "\n",
       "#sk-container-id-18 div.sk-container {\n",
       "  /* jupyter's `normalize.less` sets `[hidden] { display: none; }`\n",
       "     but bootstrap.min.css set `[hidden] { display: none !important; }`\n",
       "     so we also need the `!important` here to be able to override the\n",
       "     default hidden behavior on the sphinx rendered scikit-learn.org.\n",
       "     See: https://github.com/scikit-learn/scikit-learn/issues/21755 */\n",
       "  display: inline-block !important;\n",
       "  position: relative;\n",
       "}\n",
       "\n",
       "#sk-container-id-18 div.sk-text-repr-fallback {\n",
       "  display: none;\n",
       "}\n",
       "\n",
       "div.sk-parallel-item,\n",
       "div.sk-serial,\n",
       "div.sk-item {\n",
       "  /* draw centered vertical line to link estimators */\n",
       "  background-image: linear-gradient(var(--sklearn-color-text-on-default-background), var(--sklearn-color-text-on-default-background));\n",
       "  background-size: 2px 100%;\n",
       "  background-repeat: no-repeat;\n",
       "  background-position: center center;\n",
       "}\n",
       "\n",
       "/* Parallel-specific style estimator block */\n",
       "\n",
       "#sk-container-id-18 div.sk-parallel-item::after {\n",
       "  content: \"\";\n",
       "  width: 100%;\n",
       "  border-bottom: 2px solid var(--sklearn-color-text-on-default-background);\n",
       "  flex-grow: 1;\n",
       "}\n",
       "\n",
       "#sk-container-id-18 div.sk-parallel {\n",
       "  display: flex;\n",
       "  align-items: stretch;\n",
       "  justify-content: center;\n",
       "  background-color: var(--sklearn-color-background);\n",
       "  position: relative;\n",
       "}\n",
       "\n",
       "#sk-container-id-18 div.sk-parallel-item {\n",
       "  display: flex;\n",
       "  flex-direction: column;\n",
       "}\n",
       "\n",
       "#sk-container-id-18 div.sk-parallel-item:first-child::after {\n",
       "  align-self: flex-end;\n",
       "  width: 50%;\n",
       "}\n",
       "\n",
       "#sk-container-id-18 div.sk-parallel-item:last-child::after {\n",
       "  align-self: flex-start;\n",
       "  width: 50%;\n",
       "}\n",
       "\n",
       "#sk-container-id-18 div.sk-parallel-item:only-child::after {\n",
       "  width: 0;\n",
       "}\n",
       "\n",
       "/* Serial-specific style estimator block */\n",
       "\n",
       "#sk-container-id-18 div.sk-serial {\n",
       "  display: flex;\n",
       "  flex-direction: column;\n",
       "  align-items: center;\n",
       "  background-color: var(--sklearn-color-background);\n",
       "  padding-right: 1em;\n",
       "  padding-left: 1em;\n",
       "}\n",
       "\n",
       "\n",
       "/* Toggleable style: style used for estimator/Pipeline/ColumnTransformer box that is\n",
       "clickable and can be expanded/collapsed.\n",
       "- Pipeline and ColumnTransformer use this feature and define the default style\n",
       "- Estimators will overwrite some part of the style using the `sk-estimator` class\n",
       "*/\n",
       "\n",
       "/* Pipeline and ColumnTransformer style (default) */\n",
       "\n",
       "#sk-container-id-18 div.sk-toggleable {\n",
       "  /* Default theme specific background. It is overwritten whether we have a\n",
       "  specific estimator or a Pipeline/ColumnTransformer */\n",
       "  background-color: var(--sklearn-color-background);\n",
       "}\n",
       "\n",
       "/* Toggleable label */\n",
       "#sk-container-id-18 label.sk-toggleable__label {\n",
       "  cursor: pointer;\n",
       "  display: block;\n",
       "  width: 100%;\n",
       "  margin-bottom: 0;\n",
       "  padding: 0.5em;\n",
       "  box-sizing: border-box;\n",
       "  text-align: center;\n",
       "}\n",
       "\n",
       "#sk-container-id-18 label.sk-toggleable__label-arrow:before {\n",
       "  /* Arrow on the left of the label */\n",
       "  content: \"▸\";\n",
       "  float: left;\n",
       "  margin-right: 0.25em;\n",
       "  color: var(--sklearn-color-icon);\n",
       "}\n",
       "\n",
       "#sk-container-id-18 label.sk-toggleable__label-arrow:hover:before {\n",
       "  color: var(--sklearn-color-text);\n",
       "}\n",
       "\n",
       "/* Toggleable content - dropdown */\n",
       "\n",
       "#sk-container-id-18 div.sk-toggleable__content {\n",
       "  max-height: 0;\n",
       "  max-width: 0;\n",
       "  overflow: hidden;\n",
       "  text-align: left;\n",
       "  /* unfitted */\n",
       "  background-color: var(--sklearn-color-unfitted-level-0);\n",
       "}\n",
       "\n",
       "#sk-container-id-18 div.sk-toggleable__content.fitted {\n",
       "  /* fitted */\n",
       "  background-color: var(--sklearn-color-fitted-level-0);\n",
       "}\n",
       "\n",
       "#sk-container-id-18 div.sk-toggleable__content pre {\n",
       "  margin: 0.2em;\n",
       "  border-radius: 0.25em;\n",
       "  color: var(--sklearn-color-text);\n",
       "  /* unfitted */\n",
       "  background-color: var(--sklearn-color-unfitted-level-0);\n",
       "}\n",
       "\n",
       "#sk-container-id-18 div.sk-toggleable__content.fitted pre {\n",
       "  /* unfitted */\n",
       "  background-color: var(--sklearn-color-fitted-level-0);\n",
       "}\n",
       "\n",
       "#sk-container-id-18 input.sk-toggleable__control:checked~div.sk-toggleable__content {\n",
       "  /* Expand drop-down */\n",
       "  max-height: 200px;\n",
       "  max-width: 100%;\n",
       "  overflow: auto;\n",
       "}\n",
       "\n",
       "#sk-container-id-18 input.sk-toggleable__control:checked~label.sk-toggleable__label-arrow:before {\n",
       "  content: \"▾\";\n",
       "}\n",
       "\n",
       "/* Pipeline/ColumnTransformer-specific style */\n",
       "\n",
       "#sk-container-id-18 div.sk-label input.sk-toggleable__control:checked~label.sk-toggleable__label {\n",
       "  color: var(--sklearn-color-text);\n",
       "  background-color: var(--sklearn-color-unfitted-level-2);\n",
       "}\n",
       "\n",
       "#sk-container-id-18 div.sk-label.fitted input.sk-toggleable__control:checked~label.sk-toggleable__label {\n",
       "  background-color: var(--sklearn-color-fitted-level-2);\n",
       "}\n",
       "\n",
       "/* Estimator-specific style */\n",
       "\n",
       "/* Colorize estimator box */\n",
       "#sk-container-id-18 div.sk-estimator input.sk-toggleable__control:checked~label.sk-toggleable__label {\n",
       "  /* unfitted */\n",
       "  background-color: var(--sklearn-color-unfitted-level-2);\n",
       "}\n",
       "\n",
       "#sk-container-id-18 div.sk-estimator.fitted input.sk-toggleable__control:checked~label.sk-toggleable__label {\n",
       "  /* fitted */\n",
       "  background-color: var(--sklearn-color-fitted-level-2);\n",
       "}\n",
       "\n",
       "#sk-container-id-18 div.sk-label label.sk-toggleable__label,\n",
       "#sk-container-id-18 div.sk-label label {\n",
       "  /* The background is the default theme color */\n",
       "  color: var(--sklearn-color-text-on-default-background);\n",
       "}\n",
       "\n",
       "/* On hover, darken the color of the background */\n",
       "#sk-container-id-18 div.sk-label:hover label.sk-toggleable__label {\n",
       "  color: var(--sklearn-color-text);\n",
       "  background-color: var(--sklearn-color-unfitted-level-2);\n",
       "}\n",
       "\n",
       "/* Label box, darken color on hover, fitted */\n",
       "#sk-container-id-18 div.sk-label.fitted:hover label.sk-toggleable__label.fitted {\n",
       "  color: var(--sklearn-color-text);\n",
       "  background-color: var(--sklearn-color-fitted-level-2);\n",
       "}\n",
       "\n",
       "/* Estimator label */\n",
       "\n",
       "#sk-container-id-18 div.sk-label label {\n",
       "  font-family: monospace;\n",
       "  font-weight: bold;\n",
       "  display: inline-block;\n",
       "  line-height: 1.2em;\n",
       "}\n",
       "\n",
       "#sk-container-id-18 div.sk-label-container {\n",
       "  text-align: center;\n",
       "}\n",
       "\n",
       "/* Estimator-specific */\n",
       "#sk-container-id-18 div.sk-estimator {\n",
       "  font-family: monospace;\n",
       "  border: 1px dotted var(--sklearn-color-border-box);\n",
       "  border-radius: 0.25em;\n",
       "  box-sizing: border-box;\n",
       "  margin-bottom: 0.5em;\n",
       "  /* unfitted */\n",
       "  background-color: var(--sklearn-color-unfitted-level-0);\n",
       "}\n",
       "\n",
       "#sk-container-id-18 div.sk-estimator.fitted {\n",
       "  /* fitted */\n",
       "  background-color: var(--sklearn-color-fitted-level-0);\n",
       "}\n",
       "\n",
       "/* on hover */\n",
       "#sk-container-id-18 div.sk-estimator:hover {\n",
       "  /* unfitted */\n",
       "  background-color: var(--sklearn-color-unfitted-level-2);\n",
       "}\n",
       "\n",
       "#sk-container-id-18 div.sk-estimator.fitted:hover {\n",
       "  /* fitted */\n",
       "  background-color: var(--sklearn-color-fitted-level-2);\n",
       "}\n",
       "\n",
       "/* Specification for estimator info (e.g. \"i\" and \"?\") */\n",
       "\n",
       "/* Common style for \"i\" and \"?\" */\n",
       "\n",
       ".sk-estimator-doc-link,\n",
       "a:link.sk-estimator-doc-link,\n",
       "a:visited.sk-estimator-doc-link {\n",
       "  float: right;\n",
       "  font-size: smaller;\n",
       "  line-height: 1em;\n",
       "  font-family: monospace;\n",
       "  background-color: var(--sklearn-color-background);\n",
       "  border-radius: 1em;\n",
       "  height: 1em;\n",
       "  width: 1em;\n",
       "  text-decoration: none !important;\n",
       "  margin-left: 1ex;\n",
       "  /* unfitted */\n",
       "  border: var(--sklearn-color-unfitted-level-1) 1pt solid;\n",
       "  color: var(--sklearn-color-unfitted-level-1);\n",
       "}\n",
       "\n",
       ".sk-estimator-doc-link.fitted,\n",
       "a:link.sk-estimator-doc-link.fitted,\n",
       "a:visited.sk-estimator-doc-link.fitted {\n",
       "  /* fitted */\n",
       "  border: var(--sklearn-color-fitted-level-1) 1pt solid;\n",
       "  color: var(--sklearn-color-fitted-level-1);\n",
       "}\n",
       "\n",
       "/* On hover */\n",
       "div.sk-estimator:hover .sk-estimator-doc-link:hover,\n",
       ".sk-estimator-doc-link:hover,\n",
       "div.sk-label-container:hover .sk-estimator-doc-link:hover,\n",
       ".sk-estimator-doc-link:hover {\n",
       "  /* unfitted */\n",
       "  background-color: var(--sklearn-color-unfitted-level-3);\n",
       "  color: var(--sklearn-color-background);\n",
       "  text-decoration: none;\n",
       "}\n",
       "\n",
       "div.sk-estimator.fitted:hover .sk-estimator-doc-link.fitted:hover,\n",
       ".sk-estimator-doc-link.fitted:hover,\n",
       "div.sk-label-container:hover .sk-estimator-doc-link.fitted:hover,\n",
       ".sk-estimator-doc-link.fitted:hover {\n",
       "  /* fitted */\n",
       "  background-color: var(--sklearn-color-fitted-level-3);\n",
       "  color: var(--sklearn-color-background);\n",
       "  text-decoration: none;\n",
       "}\n",
       "\n",
       "/* Span, style for the box shown on hovering the info icon */\n",
       ".sk-estimator-doc-link span {\n",
       "  display: none;\n",
       "  z-index: 9999;\n",
       "  position: relative;\n",
       "  font-weight: normal;\n",
       "  right: .2ex;\n",
       "  padding: .5ex;\n",
       "  margin: .5ex;\n",
       "  width: min-content;\n",
       "  min-width: 20ex;\n",
       "  max-width: 50ex;\n",
       "  color: var(--sklearn-color-text);\n",
       "  box-shadow: 2pt 2pt 4pt #999;\n",
       "  /* unfitted */\n",
       "  background: var(--sklearn-color-unfitted-level-0);\n",
       "  border: .5pt solid var(--sklearn-color-unfitted-level-3);\n",
       "}\n",
       "\n",
       ".sk-estimator-doc-link.fitted span {\n",
       "  /* fitted */\n",
       "  background: var(--sklearn-color-fitted-level-0);\n",
       "  border: var(--sklearn-color-fitted-level-3);\n",
       "}\n",
       "\n",
       ".sk-estimator-doc-link:hover span {\n",
       "  display: block;\n",
       "}\n",
       "\n",
       "/* \"?\"-specific style due to the `<a>` HTML tag */\n",
       "\n",
       "#sk-container-id-18 a.estimator_doc_link {\n",
       "  float: right;\n",
       "  font-size: 1rem;\n",
       "  line-height: 1em;\n",
       "  font-family: monospace;\n",
       "  background-color: var(--sklearn-color-background);\n",
       "  border-radius: 1rem;\n",
       "  height: 1rem;\n",
       "  width: 1rem;\n",
       "  text-decoration: none;\n",
       "  /* unfitted */\n",
       "  color: var(--sklearn-color-unfitted-level-1);\n",
       "  border: var(--sklearn-color-unfitted-level-1) 1pt solid;\n",
       "}\n",
       "\n",
       "#sk-container-id-18 a.estimator_doc_link.fitted {\n",
       "  /* fitted */\n",
       "  border: var(--sklearn-color-fitted-level-1) 1pt solid;\n",
       "  color: var(--sklearn-color-fitted-level-1);\n",
       "}\n",
       "\n",
       "/* On hover */\n",
       "#sk-container-id-18 a.estimator_doc_link:hover {\n",
       "  /* unfitted */\n",
       "  background-color: var(--sklearn-color-unfitted-level-3);\n",
       "  color: var(--sklearn-color-background);\n",
       "  text-decoration: none;\n",
       "}\n",
       "\n",
       "#sk-container-id-18 a.estimator_doc_link.fitted:hover {\n",
       "  /* fitted */\n",
       "  background-color: var(--sklearn-color-fitted-level-3);\n",
       "}\n",
       "</style><div id=\"sk-container-id-18\" class=\"sk-top-container\"><div class=\"sk-text-repr-fallback\"><pre>DecisionTreeClassifier(max_depth=3)</pre><b>In a Jupyter environment, please rerun this cell to show the HTML representation or trust the notebook. <br />On GitHub, the HTML representation is unable to render, please try loading this page with nbviewer.org.</b></div><div class=\"sk-container\" hidden><div class=\"sk-item\"><div class=\"sk-estimator fitted sk-toggleable\"><input class=\"sk-toggleable__control sk-hidden--visually\" id=\"sk-estimator-id-18\" type=\"checkbox\" checked><label for=\"sk-estimator-id-18\" class=\"sk-toggleable__label fitted sk-toggleable__label-arrow fitted\">&nbsp;&nbsp;DecisionTreeClassifier<a class=\"sk-estimator-doc-link fitted\" rel=\"noreferrer\" target=\"_blank\" href=\"https://scikit-learn.org/1.5/modules/generated/sklearn.tree.DecisionTreeClassifier.html\">?<span>Documentation for DecisionTreeClassifier</span></a><span class=\"sk-estimator-doc-link fitted\">i<span>Fitted</span></span></label><div class=\"sk-toggleable__content fitted\"><pre>DecisionTreeClassifier(max_depth=3)</pre></div> </div></div></div></div>"
      ],
      "text/plain": [
       "DecisionTreeClassifier(max_depth=3)"
      ]
     },
     "execution_count": 129,
     "metadata": {},
     "output_type": "execute_result"
    }
   ],
   "source": [
    "model = DecisionTreeClassifier(max_depth=3)\n",
    "model.fit(X_train, y_train)"
   ]
  },
  {
   "cell_type": "code",
   "execution_count": 130,
   "metadata": {},
   "outputs": [
    {
     "data": {
      "text/plain": [
       "array([0.36156378, 0.        , 0.30211816, 0.        , 0.33631806,\n",
       "       0.        ])"
      ]
     },
     "execution_count": 130,
     "metadata": {},
     "output_type": "execute_result"
    }
   ],
   "source": [
    "model.feature_importances_"
   ]
  },
  {
   "cell_type": "markdown",
   "metadata": {},
   "source": [
    "Notes here about feature importance"
   ]
  },
  {
   "cell_type": "code",
   "execution_count": 131,
   "metadata": {},
   "outputs": [
    {
     "data": {
      "text/plain": [
       "[Text(0.4230769230769231, 0.875, 'x[0] <= 1403.612\\ngini = 0.851\\nsamples = 156\\nvalue = [23.0, 23.0, 26.0, 28.0, 13.0, 25.0, 18.0]'),\n",
       " Text(0.15384615384615385, 0.625, 'x[2] <= 1085.748\\ngini = 0.549\\nsamples = 37\\nvalue = [0, 0, 2, 0, 0, 18, 17]'),\n",
       " Text(0.28846153846153844, 0.75, 'True  '),\n",
       " Text(0.07692307692307693, 0.375, 'gini = 0.0\\nsamples = 9\\nvalue = [0, 0, 0, 0, 0, 9, 0]'),\n",
       " Text(0.23076923076923078, 0.375, 'x[4] <= 1537.167\\ngini = 0.523\\nsamples = 28\\nvalue = [0, 0, 2, 0, 0, 9, 17]'),\n",
       " Text(0.15384615384615385, 0.125, 'gini = 0.0\\nsamples = 2\\nvalue = [0, 0, 2, 0, 0, 0, 0]'),\n",
       " Text(0.3076923076923077, 0.125, 'gini = 0.453\\nsamples = 26\\nvalue = [0, 0, 0, 0, 0, 9, 17]'),\n",
       " Text(0.6923076923076923, 0.625, 'x[4] <= 594.34\\ngini = 0.814\\nsamples = 119\\nvalue = [23, 23, 24, 28, 13, 7, 1]'),\n",
       " Text(0.5576923076923077, 0.75, '  False'),\n",
       " Text(0.5384615384615384, 0.375, 'x[2] <= 2581.62\\ngini = 0.124\\nsamples = 15\\nvalue = [14, 0, 1, 0, 0, 0, 0]'),\n",
       " Text(0.46153846153846156, 0.125, 'gini = 0.0\\nsamples = 13\\nvalue = [13, 0, 0, 0, 0, 0, 0]'),\n",
       " Text(0.6153846153846154, 0.125, 'gini = 0.5\\nsamples = 2\\nvalue = [1, 0, 1, 0, 0, 0, 0]'),\n",
       " Text(0.8461538461538461, 0.375, 'x[2] <= 819.129\\ngini = 0.802\\nsamples = 104\\nvalue = [9, 23, 23, 28, 13, 7, 1]'),\n",
       " Text(0.7692307692307693, 0.125, 'gini = 0.406\\nsamples = 16\\nvalue = [0, 0, 0, 12, 2, 2, 0]'),\n",
       " Text(0.9230769230769231, 0.125, 'gini = 0.801\\nsamples = 88\\nvalue = [9, 23, 23, 16, 11, 5, 1]')]"
      ]
     },
     "execution_count": 131,
     "metadata": {},
     "output_type": "execute_result"
    },
    {
     "data": {
      "image/png": "[encoded data removed]",
      "text/plain": [
       "<Figure size 640x480 with 1 Axes>"
      ]
     },
     "metadata": {},
     "output_type": "display_data"
    }
   ],
   "source": [
    "plot_tree(model)"
   ]
  },
  {
   "cell_type": "code",
   "execution_count": 132,
   "metadata": {},
   "outputs": [
    {
     "name": "stdout",
     "output_type": "stream",
     "text": [
      "Accuracy: 0.45\n",
      "Confusion Matrix:\n",
      "[[1 4 0 0 0 0 0]\n",
      " [0 9 0 0 0 0 0]\n",
      " [0 6 0 0 0 0 0]\n",
      " [0 3 0 1 0 0 0]\n",
      " [0 2 0 1 0 0 0]\n",
      " [0 2 1 1 0 2 1]\n",
      " [0 0 0 0 0 1 5]]\n",
      "Classification Report:\n",
      "              precision    recall  f1-score   support\n",
      "\n",
      "           0       1.00      0.20      0.33         5\n",
      "           1       0.35      1.00      0.51         9\n",
      "           2       0.00      0.00      0.00         6\n",
      "           3       0.33      0.25      0.29         4\n",
      "           4       0.00      0.00      0.00         3\n",
      "           5       0.67      0.29      0.40         7\n",
      "           6       0.83      0.83      0.83         6\n",
      "\n",
      "    accuracy                           0.45        40\n",
      "   macro avg       0.45      0.37      0.34        40\n",
      "weighted avg       0.48      0.45      0.38        40\n",
      "\n"
     ]
    },
    {
     "name": "stderr",
     "output_type": "stream",
     "text": [
      "/opt/miniconda3/envs/data/lib/python3.12/site-packages/sklearn/metrics/_classification.py:1531: UndefinedMetricWarning:\n",
      "\n",
      "Precision is ill-defined and being set to 0.0 in labels with no predicted samples. Use `zero_division` parameter to control this behavior.\n",
      "\n",
      "/opt/miniconda3/envs/data/lib/python3.12/site-packages/sklearn/metrics/_classification.py:1531: UndefinedMetricWarning:\n",
      "\n",
      "Precision is ill-defined and being set to 0.0 in labels with no predicted samples. Use `zero_division` parameter to control this behavior.\n",
      "\n",
      "/opt/miniconda3/envs/data/lib/python3.12/site-packages/sklearn/metrics/_classification.py:1531: UndefinedMetricWarning:\n",
      "\n",
      "Precision is ill-defined and being set to 0.0 in labels with no predicted samples. Use `zero_division` parameter to control this behavior.\n",
      "\n"
     ]
    }
   ],
   "source": [
    "y_pred = model.predict(X_test)\n",
    "# Calculate accuracy\n",
    "accuracy = accuracy_score(y_test, y_pred)\n",
    "print(f'Accuracy: {accuracy:.2f}')\n",
    "\n",
    "# Confusion matrix\n",
    "print('Confusion Matrix:')\n",
    "print(confusion_matrix(y_test, y_pred))\n",
    "\n",
    "# Classification report\n",
    "print('Classification Report:')\n",
    "print(classification_report(y_test, y_pred))"
   ]
  },
  {
   "cell_type": "code",
   "execution_count": 133,
   "metadata": {},
   "outputs": [
    {
     "data": {
      "application/vnd.plotly.v1+json": {
       "config": {
        "plotlyServerURL": "https://plot.ly"
       },
       "data": [
        {
         "hovertemplate": "pred=1<br>r_dist=%{x}<br>g_dist=%{y}<br>b_dist=%{z}<extra></extra>",
         "legendgroup": "1",
         "marker": {
          "color": "rgb(0, 0, 255)",
          "symbol": "circle"
         },
         "mode": "markers",
         "name": "1",
         "scene": "scene",
         "showlegend": true,
         "type": "scatter3d",
         "x": [
          3129.2126,
          1980.4025,
          2455.4842,
          2194.9049,
          1831.3382,
          1595.9552,
          1841.9283,
          1777.8757,
          2289.142,
          2139.0147,
          1495.4982,
          2726.2102,
          2636.4538,
          2352.764,
          2216.8088,
          2738.6684,
          1636.7398,
          3618.7232,
          1784.0238,
          1835.685,
          2907.2775,
          2971.278,
          2119.7801,
          2805.0355,
          2208.1518,
          1550.6363
         ],
         "y": [
          2725.8811,
          1314.9835,
          2331.2876,
          1571.9935,
          1740.9715,
          845.4298,
          1357.2812,
          1048.3619,
          975.0977,
          1219.8135,
          1592.9846,
          1752.1749,
          1952.4562,
          2619.2848,
          2455.4837,
          853.4962,
          988.8715,
          1408.6391,
          1247.9878,
          1948.678,
          1663.1992,
          1237.1861,
          1174.6216,
          1989.4641,
          1019.3098,
          1006.0656
         ],
         "z": [
          1448.5692,
          1882.2127,
          915.586,
          1134.4664,
          1705.3474,
          2865.9125,
          1079.4051,
          1344.4385,
          1522.69,
          1100.4777,
          1873.1481,
          1448.6707,
          1465.2878,
          839.7995,
          1677.5265,
          1303.6533,
          1501.5416,
          617.1415,
          1130.1358,
          1218.3034,
          605.7568,
          2350.0196,
          1148.8173,
          694.127,
          1239.4527,
          1769.3459
         ]
        },
        {
         "hovertemplate": "pred=6<br>r_dist=%{x}<br>g_dist=%{y}<br>b_dist=%{z}<extra></extra>",
         "legendgroup": "6",
         "marker": {
          "color": "rgb(0, 255, 0)",
          "symbol": "circle"
         },
         "mode": "markers",
         "name": "6",
         "scene": "scene",
         "showlegend": true,
         "type": "scatter3d",
         "x": [
          714.5208,
          864.8231,
          826.3026,
          838.3893,
          929.0261,
          620.0819
         ],
         "y": [
          1206.2195,
          1266.7207,
          1086.7529,
          1132.9558,
          2058.1223,
          1544.5675
         ],
         "z": [
          2382.2204,
          2054.9999,
          2222.8018,
          2950.9841,
          1709.2475,
          1920.7341
         ]
        },
        {
         "hovertemplate": "pred=3<br>r_dist=%{x}<br>g_dist=%{y}<br>b_dist=%{z}<extra></extra>",
         "legendgroup": "3",
         "marker": {
          "color": "rgb(0, 128, 128)",
          "symbol": "circle"
         },
         "mode": "markers",
         "name": "3",
         "scene": "scene",
         "showlegend": true,
         "type": "scatter3d",
         "x": [
          1621.6338,
          2271.9463,
          2191.5828
         ],
         "y": [
          644.2792,
          808.5789,
          755.5056
         ],
         "z": [
          1495.4987,
          1282.5035,
          2231.9157
         ]
        },
        {
         "hovertemplate": "pred=5<br>r_dist=%{x}<br>g_dist=%{y}<br>b_dist=%{z}<extra></extra>",
         "legendgroup": "5",
         "marker": {
          "color": "rgb(200, 200, 200)",
          "symbol": "circle"
         },
         "mode": "markers",
         "name": "5",
         "scene": "scene",
         "showlegend": true,
         "type": "scatter3d",
         "x": [
          1367.0984,
          952.1874,
          1242.4749
         ],
         "y": [
          530.2269,
          752.4921,
          738.3376
         ],
         "z": [
          2286.0196,
          1562.7201,
          1209.9977
         ]
        },
        {
         "hovertemplate": "pred=0<br>r_dist=%{x}<br>g_dist=%{y}<br>b_dist=%{z}<extra></extra>",
         "legendgroup": "0",
         "marker": {
          "color": "rgb(128, 0, 128)",
          "symbol": "circle"
         },
         "mode": "markers",
         "name": "0",
         "scene": "scene",
         "showlegend": true,
         "type": "scatter3d",
         "x": [
          2666.0055
         ],
         "y": [
          1687.3441
         ],
         "z": [
          192.6077
         ]
        },
        {
         "hovertemplate": "pred=2<br>r_dist=%{x}<br>g_dist=%{y}<br>b_dist=%{z}<extra></extra>",
         "legendgroup": "2",
         "marker": {
          "color": "rgb(255, 0, 0)",
          "symbol": "circle"
         },
         "mode": "markers",
         "name": "2",
         "scene": "scene",
         "showlegend": true,
         "type": "scatter3d",
         "x": [
          1263.6208
         ],
         "y": [
          1373.1413
         ],
         "z": [
          1429.0571
         ]
        }
       ],
       "layout": {
        "legend": {
         "title": {
          "text": "pred"
         },
         "tracegroupgap": 0
        },
        "margin": {
         "t": 60
        },
        "scene": {
         "domain": {
          "x": [
           0,
           1
          ],
          "y": [
           0,
           1
          ]
         },
         "xaxis": {
          "title": {
           "text": "r_dist"
          }
         },
         "yaxis": {
          "title": {
           "text": "g_dist"
          }
         },
         "zaxis": {
          "title": {
           "text": "b_dist"
          }
         }
        },
        "template": {
         "data": {
          "bar": [
           {
            "error_x": {
             "color": "#2a3f5f"
            },
            "error_y": {
             "color": "#2a3f5f"
            },
            "marker": {
             "line": {
              "color": "#E5ECF6",
              "width": 0.5
             },
             "pattern": {
              "fillmode": "overlay",
              "size": 10,
              "solidity": 0.2
             }
            },
            "type": "bar"
           }
          ],
          "barpolar": [
           {
            "marker": {
             "line": {
              "color": "#E5ECF6",
              "width": 0.5
             },
             "pattern": {
              "fillmode": "overlay",
              "size": 10,
              "solidity": 0.2
             }
            },
            "type": "barpolar"
           }
          ],
          "carpet": [
           {
            "aaxis": {
             "endlinecolor": "#2a3f5f",
             "gridcolor": "white",
             "linecolor": "white",
             "minorgridcolor": "white",
             "startlinecolor": "#2a3f5f"
            },
            "baxis": {
             "endlinecolor": "#2a3f5f",
             "gridcolor": "white",
             "linecolor": "white",
             "minorgridcolor": "white",
             "startlinecolor": "#2a3f5f"
            },
            "type": "carpet"
           }
          ],
          "choropleth": [
           {
            "colorbar": {
             "outlinewidth": 0,
             "ticks": ""
            },
            "type": "choropleth"
           }
          ],
          "contour": [
           {
            "colorbar": {
             "outlinewidth": 0,
             "ticks": ""
            },
            "colorscale": [
             [
              0,
              "#0d0887"
             ],
             [
              0.1111111111111111,
              "#46039f"
             ],
             [
              0.2222222222222222,
              "#7201a8"
             ],
             [
              0.3333333333333333,
              "#9c179e"
             ],
             [
              0.4444444444444444,
              "#bd3786"
             ],
             [
              0.5555555555555556,
              "#d8576b"
             ],
             [
              0.6666666666666666,
              "#ed7953"
             ],
             [
              0.7777777777777778,
              "#fb9f3a"
             ],
             [
              0.8888888888888888,
              "#fdca26"
             ],
             [
              1,
              "#f0f921"
             ]
            ],
            "type": "contour"
           }
          ],
          "contourcarpet": [
           {
            "colorbar": {
             "outlinewidth": 0,
             "ticks": ""
            },
            "type": "contourcarpet"
           }
          ],
          "heatmap": [
           {
            "colorbar": {
             "outlinewidth": 0,
             "ticks": ""
            },
            "colorscale": [
             [
              0,
              "#0d0887"
             ],
             [
              0.1111111111111111,
              "#46039f"
             ],
             [
              0.2222222222222222,
              "#7201a8"
             ],
             [
              0.3333333333333333,
              "#9c179e"
             ],
             [
              0.4444444444444444,
              "#bd3786"
             ],
             [
              0.5555555555555556,
              "#d8576b"
             ],
             [
              0.6666666666666666,
              "#ed7953"
             ],
             [
              0.7777777777777778,
              "#fb9f3a"
             ],
             [
              0.8888888888888888,
              "#fdca26"
             ],
             [
              1,
              "#f0f921"
             ]
            ],
            "type": "heatmap"
           }
          ],
          "heatmapgl": [
           {
            "colorbar": {
             "outlinewidth": 0,
             "ticks": ""
            },
            "colorscale": [
             [
              0,
              "#0d0887"
             ],
             [
              0.1111111111111111,
              "#46039f"
             ],
             [
              0.2222222222222222,
              "#7201a8"
             ],
             [
              0.3333333333333333,
              "#9c179e"
             ],
             [
              0.4444444444444444,
              "#bd3786"
             ],
             [
              0.5555555555555556,
              "#d8576b"
             ],
             [
              0.6666666666666666,
              "#ed7953"
             ],
             [
              0.7777777777777778,
              "#fb9f3a"
             ],
             [
              0.8888888888888888,
              "#fdca26"
             ],
             [
              1,
              "#f0f921"
             ]
            ],
            "type": "heatmapgl"
           }
          ],
          "histogram": [
           {
            "marker": {
             "pattern": {
              "fillmode": "overlay",
              "size": 10,
              "solidity": 0.2
             }
            },
            "type": "histogram"
           }
          ],
          "histogram2d": [
           {
            "colorbar": {
             "outlinewidth": 0,
             "ticks": ""
            },
            "colorscale": [
             [
              0,
              "#0d0887"
             ],
             [
              0.1111111111111111,
              "#46039f"
             ],
             [
              0.2222222222222222,
              "#7201a8"
             ],
             [
              0.3333333333333333,
              "#9c179e"
             ],
             [
              0.4444444444444444,
              "#bd3786"
             ],
             [
              0.5555555555555556,
              "#d8576b"
             ],
             [
              0.6666666666666666,
              "#ed7953"
             ],
             [
              0.7777777777777778,
              "#fb9f3a"
             ],
             [
              0.8888888888888888,
              "#fdca26"
             ],
             [
              1,
              "#f0f921"
             ]
            ],
            "type": "histogram2d"
           }
          ],
          "histogram2dcontour": [
           {
            "colorbar": {
             "outlinewidth": 0,
             "ticks": ""
            },
            "colorscale": [
             [
              0,
              "#0d0887"
             ],
             [
              0.1111111111111111,
              "#46039f"
             ],
             [
              0.2222222222222222,
              "#7201a8"
             ],
             [
              0.3333333333333333,
              "#9c179e"
             ],
             [
              0.4444444444444444,
              "#bd3786"
             ],
             [
              0.5555555555555556,
              "#d8576b"
             ],
             [
              0.6666666666666666,
              "#ed7953"
             ],
             [
              0.7777777777777778,
              "#fb9f3a"
             ],
             [
              0.8888888888888888,
              "#fdca26"
             ],
             [
              1,
              "#f0f921"
             ]
            ],
            "type": "histogram2dcontour"
           }
          ],
          "mesh3d": [
           {
            "colorbar": {
             "outlinewidth": 0,
             "ticks": ""
            },
            "type": "mesh3d"
           }
          ],
          "parcoords": [
           {
            "line": {
             "colorbar": {
              "outlinewidth": 0,
              "ticks": ""
             }
            },
            "type": "parcoords"
           }
          ],
          "pie": [
           {
            "automargin": true,
            "type": "pie"
           }
          ],
          "scatter": [
           {
            "fillpattern": {
             "fillmode": "overlay",
             "size": 10,
             "solidity": 0.2
            },
            "type": "scatter"
           }
          ],
          "scatter3d": [
           {
            "line": {
             "colorbar": {
              "outlinewidth": 0,
              "ticks": ""
             }
            },
            "marker": {
             "colorbar": {
              "outlinewidth": 0,
              "ticks": ""
             }
            },
            "type": "scatter3d"
           }
          ],
          "scattercarpet": [
           {
            "marker": {
             "colorbar": {
              "outlinewidth": 0,
              "ticks": ""
             }
            },
            "type": "scattercarpet"
           }
          ],
          "scattergeo": [
           {
            "marker": {
             "colorbar": {
              "outlinewidth": 0,
              "ticks": ""
             }
            },
            "type": "scattergeo"
           }
          ],
          "scattergl": [
           {
            "marker": {
             "colorbar": {
              "outlinewidth": 0,
              "ticks": ""
             }
            },
            "type": "scattergl"
           }
          ],
          "scattermapbox": [
           {
            "marker": {
             "colorbar": {
              "outlinewidth": 0,
              "ticks": ""
             }
            },
            "type": "scattermapbox"
           }
          ],
          "scatterpolar": [
           {
            "marker": {
             "colorbar": {
              "outlinewidth": 0,
              "ticks": ""
             }
            },
            "type": "scatterpolar"
           }
          ],
          "scatterpolargl": [
           {
            "marker": {
             "colorbar": {
              "outlinewidth": 0,
              "ticks": ""
             }
            },
            "type": "scatterpolargl"
           }
          ],
          "scatterternary": [
           {
            "marker": {
             "colorbar": {
              "outlinewidth": 0,
              "ticks": ""
             }
            },
            "type": "scatterternary"
           }
          ],
          "surface": [
           {
            "colorbar": {
             "outlinewidth": 0,
             "ticks": ""
            },
            "colorscale": [
             [
              0,
              "#0d0887"
             ],
             [
              0.1111111111111111,
              "#46039f"
             ],
             [
              0.2222222222222222,
              "#7201a8"
             ],
             [
              0.3333333333333333,
              "#9c179e"
             ],
             [
              0.4444444444444444,
              "#bd3786"
             ],
             [
              0.5555555555555556,
              "#d8576b"
             ],
             [
              0.6666666666666666,
              "#ed7953"
             ],
             [
              0.7777777777777778,
              "#fb9f3a"
             ],
             [
              0.8888888888888888,
              "#fdca26"
             ],
             [
              1,
              "#f0f921"
             ]
            ],
            "type": "surface"
           }
          ],
          "table": [
           {
            "cells": {
             "fill": {
              "color": "#EBF0F8"
             },
             "line": {
              "color": "white"
             }
            },
            "header": {
             "fill": {
              "color": "#C8D4E3"
             },
             "line": {
              "color": "white"
             }
            },
            "type": "table"
           }
          ]
         },
         "layout": {
          "annotationdefaults": {
           "arrowcolor": "#2a3f5f",
           "arrowhead": 0,
           "arrowwidth": 1
          },
          "autotypenumbers": "strict",
          "coloraxis": {
           "colorbar": {
            "outlinewidth": 0,
            "ticks": ""
           }
          },
          "colorscale": {
           "diverging": [
            [
             0,
             "#8e0152"
            ],
            [
             0.1,
             "#c51b7d"
            ],
            [
             0.2,
             "#de77ae"
            ],
            [
             0.3,
             "#f1b6da"
            ],
            [
             0.4,
             "#fde0ef"
            ],
            [
             0.5,
             "#f7f7f7"
            ],
            [
             0.6,
             "#e6f5d0"
            ],
            [
             0.7,
             "#b8e186"
            ],
            [
             0.8,
             "#7fbc41"
            ],
            [
             0.9,
             "#4d9221"
            ],
            [
             1,
             "#276419"
            ]
           ],
           "sequential": [
            [
             0,
             "#0d0887"
            ],
            [
             0.1111111111111111,
             "#46039f"
            ],
            [
             0.2222222222222222,
             "#7201a8"
            ],
            [
             0.3333333333333333,
             "#9c179e"
            ],
            [
             0.4444444444444444,
             "#bd3786"
            ],
            [
             0.5555555555555556,
             "#d8576b"
            ],
            [
             0.6666666666666666,
             "#ed7953"
            ],
            [
             0.7777777777777778,
             "#fb9f3a"
            ],
            [
             0.8888888888888888,
             "#fdca26"
            ],
            [
             1,
             "#f0f921"
            ]
           ],
           "sequentialminus": [
            [
             0,
             "#0d0887"
            ],
            [
             0.1111111111111111,
             "#46039f"
            ],
            [
             0.2222222222222222,
             "#7201a8"
            ],
            [
             0.3333333333333333,
             "#9c179e"
            ],
            [
             0.4444444444444444,
             "#bd3786"
            ],
            [
             0.5555555555555556,
             "#d8576b"
            ],
            [
             0.6666666666666666,
             "#ed7953"
            ],
            [
             0.7777777777777778,
             "#fb9f3a"
            ],
            [
             0.8888888888888888,
             "#fdca26"
            ],
            [
             1,
             "#f0f921"
            ]
           ]
          },
          "colorway": [
           "#636efa",
           "#EF553B",
           "#00cc96",
           "#ab63fa",
           "#FFA15A",
           "#19d3f3",
           "#FF6692",
           "#B6E880",
           "#FF97FF",
           "#FECB52"
          ],
          "font": {
           "color": "#2a3f5f"
          },
          "geo": {
           "bgcolor": "white",
           "lakecolor": "white",
           "landcolor": "#E5ECF6",
           "showlakes": true,
           "showland": true,
           "subunitcolor": "white"
          },
          "hoverlabel": {
           "align": "left"
          },
          "hovermode": "closest",
          "mapbox": {
           "style": "light"
          },
          "paper_bgcolor": "white",
          "plot_bgcolor": "#E5ECF6",
          "polar": {
           "angularaxis": {
            "gridcolor": "white",
            "linecolor": "white",
            "ticks": ""
           },
           "bgcolor": "#E5ECF6",
           "radialaxis": {
            "gridcolor": "white",
            "linecolor": "white",
            "ticks": ""
           }
          },
          "scene": {
           "xaxis": {
            "backgroundcolor": "#E5ECF6",
            "gridcolor": "white",
            "gridwidth": 2,
            "linecolor": "white",
            "showbackground": true,
            "ticks": "",
            "zerolinecolor": "white"
           },
           "yaxis": {
            "backgroundcolor": "#E5ECF6",
            "gridcolor": "white",
            "gridwidth": 2,
            "linecolor": "white",
            "showbackground": true,
            "ticks": "",
            "zerolinecolor": "white"
           },
           "zaxis": {
            "backgroundcolor": "#E5ECF6",
            "gridcolor": "white",
            "gridwidth": 2,
            "linecolor": "white",
            "showbackground": true,
            "ticks": "",
            "zerolinecolor": "white"
           }
          },
          "shapedefaults": {
           "line": {
            "color": "#2a3f5f"
           }
          },
          "ternary": {
           "aaxis": {
            "gridcolor": "white",
            "linecolor": "white",
            "ticks": ""
           },
           "baxis": {
            "gridcolor": "white",
            "linecolor": "white",
            "ticks": ""
           },
           "bgcolor": "#E5ECF6",
           "caxis": {
            "gridcolor": "white",
            "linecolor": "white",
            "ticks": ""
           }
          },
          "title": {
           "x": 0.05
          },
          "xaxis": {
           "automargin": true,
           "gridcolor": "white",
           "linecolor": "white",
           "ticks": "",
           "title": {
            "standoff": 15
           },
           "zerolinecolor": "white",
           "zerolinewidth": 2
          },
          "yaxis": {
           "automargin": true,
           "gridcolor": "white",
           "linecolor": "white",
           "ticks": "",
           "title": {
            "standoff": 15
           },
           "zerolinecolor": "white",
           "zerolinewidth": 2
          }
         }
        }
       }
      }
     },
     "metadata": {},
     "output_type": "display_data"
    }
   ],
   "source": [
    "result_df = X_test.copy()\n",
    "result_df['pred'] = y_pred\n",
    "\n",
    "fig = px.scatter_3d(result_df, x='r_dist', y='g_dist', z='b_dist',\n",
    "            color='pred', color_discrete_map=color_discrete_map)\n",
    "fig.show()"
   ]
  },
  {
   "cell_type": "markdown",
   "metadata": {},
   "source": [
    "It looks like the decision tree is not exceptional at classifying the points.  \n",
    "It tends to overclassify some clusters over others, completely ignoring some.  \n",
    "I can still give it a try, but I might go for a more straightforward method, characterizing each of the clusters by its meaning and std along each axis (removing outliers), and grading the likelihood by how many stds away it is.\n",
    "\n",
    "We do know from the feature importances that rssi is largely not the way to separate locations. So I will ignore them."
   ]
  },
  {
   "cell_type": "code",
   "execution_count": 135,
   "metadata": {},
   "outputs": [],
   "source": [
    "def remove_outliers(arr):\n",
    "    mean = arr.mean()\n",
    "    std = arr.std()\n",
    "    filtered_arr = arr[(arr >= (mean - 3 * std)) & (arr <= (mean + 3 * std))]\n",
    "    return filtered_arr.mean(), filtered_arr.std()"
   ]
  },
  {
   "cell_type": "code",
   "execution_count": 148,
   "metadata": {},
   "outputs": [
    {
     "name": "stdout",
     "output_type": "stream",
     "text": [
      "0\n",
      ".r_dist = 248808,\n",
      ".r_std = 46852,\n",
      ".g_dist = 186345,\n",
      ".g_std = 40863,\n",
      ".g_dist = 68030,\n",
      ".g_std = 48165\n",
      "1\n",
      ".r_dist = 251131,\n",
      ".r_std = 40039,\n",
      ".g_dist = 158327,\n",
      ".g_std = 51113,\n",
      ".g_dist = 121837,\n",
      ".g_std = 35761\n",
      "2\n",
      ".r_dist = 201109,\n",
      ".r_std = 46307,\n",
      ".g_dist = 143392,\n",
      ".g_std = 37990,\n",
      ".g_dist = 115855,\n",
      ".g_std = 30466\n",
      "3\n",
      ".r_dist = 202342,\n",
      ".r_std = 32975,\n",
      ".g_dist = 112327,\n",
      ".g_std = 48537,\n",
      ".g_dist = 136698,\n",
      ".g_std = 37661\n",
      "4\n",
      ".r_dist = 221593,\n",
      ".r_std = 42533,\n",
      ".g_dist = 137438,\n",
      ".g_std = 61790,\n",
      ".g_dist = 150024,\n",
      ".g_std = 33292\n",
      "5\n",
      ".r_dist = 121314,\n",
      ".r_std = 47481,\n",
      ".g_dist = 105024,\n",
      ".g_std = 43417,\n",
      ".g_dist = 186952,\n",
      ".g_std = 33277\n",
      "6\n",
      ".r_dist = 94278,\n",
      ".r_std = 31528,\n",
      ".g_dist = 133598,\n",
      ".g_std = 24665,\n",
      ".g_dist = 209722,\n",
      ".g_std = 31180\n"
     ]
    }
   ],
   "source": [
    "loc_dfs = [laser_cutter_df, printers_df, bl_table_df, br_table_df, toolboxes_df, front_table_df, front_desk_df]\n",
    "\n",
    "centers_rows = []\n",
    "for index, loc_df in enumerate(loc_dfs):\n",
    "    print(index)\n",
    "    r_dist, r_std = remove_outliers(loc_df['r_dist'])\n",
    "    print(f'.r_dist = {round(r_dist * 100)},')\n",
    "    print(f'.r_std = {round(r_std * 100)},')\n",
    "\n",
    "    g_dist, g_std = remove_outliers(loc_df['g_dist'])\n",
    "    print(f'.g_dist = {round(g_dist * 100)},')\n",
    "    print(f'.g_std = {round(g_std * 100)},')\n",
    "\n",
    "    b_dist, b_std = remove_outliers(loc_df['b_dist'])\n",
    "    print(f'.g_dist = {round(b_dist * 100)},')\n",
    "    print(f'.g_std = {round(b_std * 100)}')\n",
    "\n",
    "    row = {'r_dist': r_dist, 'r_err': r_std, 'g_dist': g_dist, 'g_err': g_std, 'b_dist': b_dist, 'b_err': b_std, 'loc': str(index)}\n",
    "    centers_rows.append(row)\n",
    "\n",
    "centers_df = pd.DataFrame(centers_rows)"
   ]
  },
  {
   "cell_type": "code",
   "execution_count": 144,
   "metadata": {},
   "outputs": [
    {
     "data": {
      "application/vnd.plotly.v1+json": {
       "config": {
        "plotlyServerURL": "https://plot.ly"
       },
       "data": [
        {
         "error_x": {
          "array": [
           468.51508267070085
          ]
         },
         "error_y": {
          "array": [
           408.63284055347685
          ]
         },
         "error_z": {
          "array": [
           481.64695826546875
          ]
         },
         "hovertemplate": "loc=0<br>r_dist=%{x}<br>g_dist=%{y}<br>b_dist=%{z}<extra></extra>",
         "legendgroup": "0",
         "marker": {
          "color": "rgb(128, 0, 128)",
          "symbol": "circle"
         },
         "mode": "markers",
         "name": "0",
         "scene": "scene",
         "showlegend": true,
         "type": "scatter3d",
         "x": [
          2488.0825464285713
         ],
         "y": [
          1863.4538214285715
         ],
         "z": [
          680.3010964285713
         ]
        },
        {
         "error_x": {
          "array": [
           400.3912220261044
          ]
         },
         "error_y": {
          "array": [
           511.1259675270792
          ]
         },
         "error_z": {
          "array": [
           357.60883214501445
          ]
         },
         "hovertemplate": "loc=1<br>r_dist=%{x}<br>g_dist=%{y}<br>b_dist=%{z}<extra></extra>",
         "legendgroup": "1",
         "marker": {
          "color": "rgb(0, 0, 255)",
          "symbol": "circle"
         },
         "mode": "markers",
         "name": "1",
         "scene": "scene",
         "showlegend": true,
         "type": "scatter3d",
         "x": [
          2511.3146218750003
         ],
         "y": [
          1583.269940625
         ],
         "z": [
          1218.374212903226
         ]
        },
        {
         "error_x": {
          "array": [
           463.0683758789803
          ]
         },
         "error_y": {
          "array": [
           379.8976533115394
          ]
         },
         "error_z": {
          "array": [
           304.65628007515653
          ]
         },
         "hovertemplate": "loc=2<br>r_dist=%{x}<br>g_dist=%{y}<br>b_dist=%{z}<extra></extra>",
         "legendgroup": "2",
         "marker": {
          "color": "rgb(255, 0, 0)",
          "symbol": "circle"
         },
         "mode": "markers",
         "name": "2",
         "scene": "scene",
         "showlegend": true,
         "type": "scatter3d",
         "x": [
          2011.090321875
         ],
         "y": [
          1433.9152483870964
         ],
         "z": [
          1158.54934375
         ]
        },
        {
         "error_x": {
          "array": [
           329.74830886518833
          ]
         },
         "error_y": {
          "array": [
           485.3742536803862
          ]
         },
         "error_z": {
          "array": [
           376.61356351069344
          ]
         },
         "hovertemplate": "loc=3<br>r_dist=%{x}<br>g_dist=%{y}<br>b_dist=%{z}<extra></extra>",
         "legendgroup": "3",
         "marker": {
          "color": "rgb(0, 128, 128)",
          "symbol": "circle"
         },
         "mode": "markers",
         "name": "3",
         "scene": "scene",
         "showlegend": true,
         "type": "scatter3d",
         "x": [
          2023.4175531249998
         ],
         "y": [
          1123.2664312499999
         ],
         "z": [
          1366.979059375
         ]
        },
        {
         "error_x": {
          "array": [
           425.33061713665757
          ]
         },
         "error_y": {
          "array": [
           617.90036927533
          ]
         },
         "error_z": {
          "array": [
           332.91594715317603
          ]
         },
         "hovertemplate": "loc=4<br>r_dist=%{x}<br>g_dist=%{y}<br>b_dist=%{z}<extra></extra>",
         "legendgroup": "4",
         "marker": {
          "color": "rgb(200, 128, 0)",
          "symbol": "circle"
         },
         "mode": "markers",
         "name": "4",
         "scene": "scene",
         "showlegend": true,
         "type": "scatter3d",
         "x": [
          2215.93169375
         ],
         "y": [
          1374.37674375
         ],
         "z": [
          1500.2403187500001
         ]
        },
        {
         "error_x": {
          "array": [
           474.809193891549
          ]
         },
         "error_y": {
          "array": [
           434.1743285383485
          ]
         },
         "error_z": {
          "array": [
           332.77375608072253
          ]
         },
         "hovertemplate": "loc=5<br>r_dist=%{x}<br>g_dist=%{y}<br>b_dist=%{z}<extra></extra>",
         "legendgroup": "5",
         "marker": {
          "color": "rgb(200, 200, 200)",
          "symbol": "circle"
         },
         "mode": "markers",
         "name": "5",
         "scene": "scene",
         "showlegend": true,
         "type": "scatter3d",
         "x": [
          1213.13859375
         ],
         "y": [
          1050.24125
         ],
         "z": [
          1869.5194999999999
         ]
        },
        {
         "error_x": {
          "array": [
           315.2839533786591
          ]
         },
         "error_y": {
          "array": [
           246.64728498940732
          ]
         },
         "error_z": {
          "array": [
           311.7996888952612
          ]
         },
         "hovertemplate": "loc=6<br>r_dist=%{x}<br>g_dist=%{y}<br>b_dist=%{z}<extra></extra>",
         "legendgroup": "6",
         "marker": {
          "color": "rgb(0, 255, 0)",
          "symbol": "circle"
         },
         "mode": "markers",
         "name": "6",
         "scene": "scene",
         "showlegend": true,
         "type": "scatter3d",
         "x": [
          942.7806416666666
         ],
         "y": [
          1335.9783624999998
         ],
         "z": [
          2097.218608333333
         ]
        }
       ],
       "layout": {
        "legend": {
         "title": {
          "text": "loc"
         },
         "tracegroupgap": 0
        },
        "margin": {
         "t": 60
        },
        "scene": {
         "domain": {
          "x": [
           0,
           1
          ],
          "y": [
           0,
           1
          ]
         },
         "xaxis": {
          "title": {
           "text": "r_dist"
          }
         },
         "yaxis": {
          "title": {
           "text": "g_dist"
          }
         },
         "zaxis": {
          "title": {
           "text": "b_dist"
          }
         }
        },
        "template": {
         "data": {
          "bar": [
           {
            "error_x": {
             "color": "#2a3f5f"
            },
            "error_y": {
             "color": "#2a3f5f"
            },
            "marker": {
             "line": {
              "color": "#E5ECF6",
              "width": 0.5
             },
             "pattern": {
              "fillmode": "overlay",
              "size": 10,
              "solidity": 0.2
             }
            },
            "type": "bar"
           }
          ],
          "barpolar": [
           {
            "marker": {
             "line": {
              "color": "#E5ECF6",
              "width": 0.5
             },
             "pattern": {
              "fillmode": "overlay",
              "size": 10,
              "solidity": 0.2
             }
            },
            "type": "barpolar"
           }
          ],
          "carpet": [
           {
            "aaxis": {
             "endlinecolor": "#2a3f5f",
             "gridcolor": "white",
             "linecolor": "white",
             "minorgridcolor": "white",
             "startlinecolor": "#2a3f5f"
            },
            "baxis": {
             "endlinecolor": "#2a3f5f",
             "gridcolor": "white",
             "linecolor": "white",
             "minorgridcolor": "white",
             "startlinecolor": "#2a3f5f"
            },
            "type": "carpet"
           }
          ],
          "choropleth": [
           {
            "colorbar": {
             "outlinewidth": 0,
             "ticks": ""
            },
            "type": "choropleth"
           }
          ],
          "contour": [
           {
            "colorbar": {
             "outlinewidth": 0,
             "ticks": ""
            },
            "colorscale": [
             [
              0,
              "#0d0887"
             ],
             [
              0.1111111111111111,
              "#46039f"
             ],
             [
              0.2222222222222222,
              "#7201a8"
             ],
             [
              0.3333333333333333,
              "#9c179e"
             ],
             [
              0.4444444444444444,
              "#bd3786"
             ],
             [
              0.5555555555555556,
              "#d8576b"
             ],
             [
              0.6666666666666666,
              "#ed7953"
             ],
             [
              0.7777777777777778,
              "#fb9f3a"
             ],
             [
              0.8888888888888888,
              "#fdca26"
             ],
             [
              1,
              "#f0f921"
             ]
            ],
            "type": "contour"
           }
          ],
          "contourcarpet": [
           {
            "colorbar": {
             "outlinewidth": 0,
             "ticks": ""
            },
            "type": "contourcarpet"
           }
          ],
          "heatmap": [
           {
            "colorbar": {
             "outlinewidth": 0,
             "ticks": ""
            },
            "colorscale": [
             [
              0,
              "#0d0887"
             ],
             [
              0.1111111111111111,
              "#46039f"
             ],
             [
              0.2222222222222222,
              "#7201a8"
             ],
             [
              0.3333333333333333,
              "#9c179e"
             ],
             [
              0.4444444444444444,
              "#bd3786"
             ],
             [
              0.5555555555555556,
              "#d8576b"
             ],
             [
              0.6666666666666666,
              "#ed7953"
             ],
             [
              0.7777777777777778,
              "#fb9f3a"
             ],
             [
              0.8888888888888888,
              "#fdca26"
             ],
             [
              1,
              "#f0f921"
             ]
            ],
            "type": "heatmap"
           }
          ],
          "heatmapgl": [
           {
            "colorbar": {
             "outlinewidth": 0,
             "ticks": ""
            },
            "colorscale": [
             [
              0,
              "#0d0887"
             ],
             [
              0.1111111111111111,
              "#46039f"
             ],
             [
              0.2222222222222222,
              "#7201a8"
             ],
             [
              0.3333333333333333,
              "#9c179e"
             ],
             [
              0.4444444444444444,
              "#bd3786"
             ],
             [
              0.5555555555555556,
              "#d8576b"
             ],
             [
              0.6666666666666666,
              "#ed7953"
             ],
             [
              0.7777777777777778,
              "#fb9f3a"
             ],
             [
              0.8888888888888888,
              "#fdca26"
             ],
             [
              1,
              "#f0f921"
             ]
            ],
            "type": "heatmapgl"
           }
          ],
          "histogram": [
           {
            "marker": {
             "pattern": {
              "fillmode": "overlay",
              "size": 10,
              "solidity": 0.2
             }
            },
            "type": "histogram"
           }
          ],
          "histogram2d": [
           {
            "colorbar": {
             "outlinewidth": 0,
             "ticks": ""
            },
            "colorscale": [
             [
              0,
              "#0d0887"
             ],
             [
              0.1111111111111111,
              "#46039f"
             ],
             [
              0.2222222222222222,
              "#7201a8"
             ],
             [
              0.3333333333333333,
              "#9c179e"
             ],
             [
              0.4444444444444444,
              "#bd3786"
             ],
             [
              0.5555555555555556,
              "#d8576b"
             ],
             [
              0.6666666666666666,
              "#ed7953"
             ],
             [
              0.7777777777777778,
              "#fb9f3a"
             ],
             [
              0.8888888888888888,
              "#fdca26"
             ],
             [
              1,
              "#f0f921"
             ]
            ],
            "type": "histogram2d"
           }
          ],
          "histogram2dcontour": [
           {
            "colorbar": {
             "outlinewidth": 0,
             "ticks": ""
            },
            "colorscale": [
             [
              0,
              "#0d0887"
             ],
             [
              0.1111111111111111,
              "#46039f"
             ],
             [
              0.2222222222222222,
              "#7201a8"
             ],
             [
              0.3333333333333333,
              "#9c179e"
             ],
             [
              0.4444444444444444,
              "#bd3786"
             ],
             [
              0.5555555555555556,
              "#d8576b"
             ],
             [
              0.6666666666666666,
              "#ed7953"
             ],
             [
              0.7777777777777778,
              "#fb9f3a"
             ],
             [
              0.8888888888888888,
              "#fdca26"
             ],
             [
              1,
              "#f0f921"
             ]
            ],
            "type": "histogram2dcontour"
           }
          ],
          "mesh3d": [
           {
            "colorbar": {
             "outlinewidth": 0,
             "ticks": ""
            },
            "type": "mesh3d"
           }
          ],
          "parcoords": [
           {
            "line": {
             "colorbar": {
              "outlinewidth": 0,
              "ticks": ""
             }
            },
            "type": "parcoords"
           }
          ],
          "pie": [
           {
            "automargin": true,
            "type": "pie"
           }
          ],
          "scatter": [
           {
            "fillpattern": {
             "fillmode": "overlay",
             "size": 10,
             "solidity": 0.2
            },
            "type": "scatter"
           }
          ],
          "scatter3d": [
           {
            "line": {
             "colorbar": {
              "outlinewidth": 0,
              "ticks": ""
             }
            },
            "marker": {
             "colorbar": {
              "outlinewidth": 0,
              "ticks": ""
             }
            },
            "type": "scatter3d"
           }
          ],
          "scattercarpet": [
           {
            "marker": {
             "colorbar": {
              "outlinewidth": 0,
              "ticks": ""
             }
            },
            "type": "scattercarpet"
           }
          ],
          "scattergeo": [
           {
            "marker": {
             "colorbar": {
              "outlinewidth": 0,
              "ticks": ""
             }
            },
            "type": "scattergeo"
           }
          ],
          "scattergl": [
           {
            "marker": {
             "colorbar": {
              "outlinewidth": 0,
              "ticks": ""
             }
            },
            "type": "scattergl"
           }
          ],
          "scattermapbox": [
           {
            "marker": {
             "colorbar": {
              "outlinewidth": 0,
              "ticks": ""
             }
            },
            "type": "scattermapbox"
           }
          ],
          "scatterpolar": [
           {
            "marker": {
             "colorbar": {
              "outlinewidth": 0,
              "ticks": ""
             }
            },
            "type": "scatterpolar"
           }
          ],
          "scatterpolargl": [
           {
            "marker": {
             "colorbar": {
              "outlinewidth": 0,
              "ticks": ""
             }
            },
            "type": "scatterpolargl"
           }
          ],
          "scatterternary": [
           {
            "marker": {
             "colorbar": {
              "outlinewidth": 0,
              "ticks": ""
             }
            },
            "type": "scatterternary"
           }
          ],
          "surface": [
           {
            "colorbar": {
             "outlinewidth": 0,
             "ticks": ""
            },
            "colorscale": [
             [
              0,
              "#0d0887"
             ],
             [
              0.1111111111111111,
              "#46039f"
             ],
             [
              0.2222222222222222,
              "#7201a8"
             ],
             [
              0.3333333333333333,
              "#9c179e"
             ],
             [
              0.4444444444444444,
              "#bd3786"
             ],
             [
              0.5555555555555556,
              "#d8576b"
             ],
             [
              0.6666666666666666,
              "#ed7953"
             ],
             [
              0.7777777777777778,
              "#fb9f3a"
             ],
             [
              0.8888888888888888,
              "#fdca26"
             ],
             [
              1,
              "#f0f921"
             ]
            ],
            "type": "surface"
           }
          ],
          "table": [
           {
            "cells": {
             "fill": {
              "color": "#EBF0F8"
             },
             "line": {
              "color": "white"
             }
            },
            "header": {
             "fill": {
              "color": "#C8D4E3"
             },
             "line": {
              "color": "white"
             }
            },
            "type": "table"
           }
          ]
         },
         "layout": {
          "annotationdefaults": {
           "arrowcolor": "#2a3f5f",
           "arrowhead": 0,
           "arrowwidth": 1
          },
          "autotypenumbers": "strict",
          "coloraxis": {
           "colorbar": {
            "outlinewidth": 0,
            "ticks": ""
           }
          },
          "colorscale": {
           "diverging": [
            [
             0,
             "#8e0152"
            ],
            [
             0.1,
             "#c51b7d"
            ],
            [
             0.2,
             "#de77ae"
            ],
            [
             0.3,
             "#f1b6da"
            ],
            [
             0.4,
             "#fde0ef"
            ],
            [
             0.5,
             "#f7f7f7"
            ],
            [
             0.6,
             "#e6f5d0"
            ],
            [
             0.7,
             "#b8e186"
            ],
            [
             0.8,
             "#7fbc41"
            ],
            [
             0.9,
             "#4d9221"
            ],
            [
             1,
             "#276419"
            ]
           ],
           "sequential": [
            [
             0,
             "#0d0887"
            ],
            [
             0.1111111111111111,
             "#46039f"
            ],
            [
             0.2222222222222222,
             "#7201a8"
            ],
            [
             0.3333333333333333,
             "#9c179e"
            ],
            [
             0.4444444444444444,
             "#bd3786"
            ],
            [
             0.5555555555555556,
             "#d8576b"
            ],
            [
             0.6666666666666666,
             "#ed7953"
            ],
            [
             0.7777777777777778,
             "#fb9f3a"
            ],
            [
             0.8888888888888888,
             "#fdca26"
            ],
            [
             1,
             "#f0f921"
            ]
           ],
           "sequentialminus": [
            [
             0,
             "#0d0887"
            ],
            [
             0.1111111111111111,
             "#46039f"
            ],
            [
             0.2222222222222222,
             "#7201a8"
            ],
            [
             0.3333333333333333,
             "#9c179e"
            ],
            [
             0.4444444444444444,
             "#bd3786"
            ],
            [
             0.5555555555555556,
             "#d8576b"
            ],
            [
             0.6666666666666666,
             "#ed7953"
            ],
            [
             0.7777777777777778,
             "#fb9f3a"
            ],
            [
             0.8888888888888888,
             "#fdca26"
            ],
            [
             1,
             "#f0f921"
            ]
           ]
          },
          "colorway": [
           "#636efa",
           "#EF553B",
           "#00cc96",
           "#ab63fa",
           "#FFA15A",
           "#19d3f3",
           "#FF6692",
           "#B6E880",
           "#FF97FF",
           "#FECB52"
          ],
          "font": {
           "color": "#2a3f5f"
          },
          "geo": {
           "bgcolor": "white",
           "lakecolor": "white",
           "landcolor": "#E5ECF6",
           "showlakes": true,
           "showland": true,
           "subunitcolor": "white"
          },
          "hoverlabel": {
           "align": "left"
          },
          "hovermode": "closest",
          "mapbox": {
           "style": "light"
          },
          "paper_bgcolor": "white",
          "plot_bgcolor": "#E5ECF6",
          "polar": {
           "angularaxis": {
            "gridcolor": "white",
            "linecolor": "white",
            "ticks": ""
           },
           "bgcolor": "#E5ECF6",
           "radialaxis": {
            "gridcolor": "white",
            "linecolor": "white",
            "ticks": ""
           }
          },
          "scene": {
           "xaxis": {
            "backgroundcolor": "#E5ECF6",
            "gridcolor": "white",
            "gridwidth": 2,
            "linecolor": "white",
            "showbackground": true,
            "ticks": "",
            "zerolinecolor": "white"
           },
           "yaxis": {
            "backgroundcolor": "#E5ECF6",
            "gridcolor": "white",
            "gridwidth": 2,
            "linecolor": "white",
            "showbackground": true,
            "ticks": "",
            "zerolinecolor": "white"
           },
           "zaxis": {
            "backgroundcolor": "#E5ECF6",
            "gridcolor": "white",
            "gridwidth": 2,
            "linecolor": "white",
            "showbackground": true,
            "ticks": "",
            "zerolinecolor": "white"
           }
          },
          "shapedefaults": {
           "line": {
            "color": "#2a3f5f"
           }
          },
          "ternary": {
           "aaxis": {
            "gridcolor": "white",
            "linecolor": "white",
            "ticks": ""
           },
           "baxis": {
            "gridcolor": "white",
            "linecolor": "white",
            "ticks": ""
           },
           "bgcolor": "#E5ECF6",
           "caxis": {
            "gridcolor": "white",
            "linecolor": "white",
            "ticks": ""
           }
          },
          "title": {
           "x": 0.05
          },
          "xaxis": {
           "automargin": true,
           "gridcolor": "white",
           "linecolor": "white",
           "ticks": "",
           "title": {
            "standoff": 15
           },
           "zerolinecolor": "white",
           "zerolinewidth": 2
          },
          "yaxis": {
           "automargin": true,
           "gridcolor": "white",
           "linecolor": "white",
           "ticks": "",
           "title": {
            "standoff": 15
           },
           "zerolinecolor": "white",
           "zerolinewidth": 2
          }
         }
        }
       }
      }
     },
     "metadata": {},
     "output_type": "display_data"
    }
   ],
   "source": [
    "fig = px.scatter_3d(centers_df, x='r_dist', error_x='r_err', y='g_dist', error_y='g_err', z='b_dist', error_z='b_err',\n",
    "            color='loc', color_discrete_map=color_discrete_map)\n",
    "fig.show()"
   ]
  },
  {
   "cell_type": "code",
   "execution_count": null,
   "metadata": {},
   "outputs": [],
   "source": []
  }
 ],
 "metadata": {
  "kernelspec": {
   "display_name": "data",
   "language": "python",
   "name": "python3"
  },
  "language_info": {
   "codemirror_mode": {
    "name": "ipython",
    "version": 3
   },
   "file_extension": ".py",
   "mimetype": "text/x-python",
   "name": "python",
   "nbconvert_exporter": "python",
   "pygments_lexer": "ipython3",
   "version": "3.12.4"
  }
 },
 "nbformat": 4,
 "nbformat_minor": 2
}
